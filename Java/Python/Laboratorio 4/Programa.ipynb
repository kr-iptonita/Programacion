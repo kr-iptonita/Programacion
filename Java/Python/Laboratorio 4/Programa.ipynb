{
 "cells": [
  {
   "cell_type": "markdown",
   "metadata": {},
   "source": [
    "Generador de modelo"
   ]
  },
  {
   "cell_type": "markdown",
   "metadata": {},
   "source": [
    "Laboratorio 4 Taller de Modelacion 1.\n",
    "\n",
    "Integrantes:\n",
    "    - Degollado Munoz Andres (DMA)\n",
    "    - Juarez Torres Carlos Alberto (JTCA)\n",
    "    - Vega Gonzalez Pedro Ruben (VGPR)\n",
    "    \n",
    "Nombre del programa: Laboratorio4_TMM1_DMA_JTCA_VGPR.ipynb"
   ]
  },
  {
   "cell_type": "code",
   "execution_count": 2,
   "metadata": {},
   "outputs": [
    {
     "ename": "ModuleNotFoundError",
     "evalue": "No module named 'numpy'",
     "output_type": "error",
     "traceback": [
      "\u001b[1;31m---------------------------------------------------------------------------\u001b[0m",
      "\u001b[1;31mModuleNotFoundError\u001b[0m                       Traceback (most recent call last)",
      "Input \u001b[1;32mIn [2]\u001b[0m, in \u001b[0;36m<module>\u001b[1;34m\u001b[0m\n\u001b[0;32m      1\u001b[0m get_ipython()\u001b[38;5;241m.\u001b[39mrun_line_magic(\u001b[38;5;124m'\u001b[39m\u001b[38;5;124mreset\u001b[39m\u001b[38;5;124m'\u001b[39m, \u001b[38;5;124m'\u001b[39m\u001b[38;5;124m-f\u001b[39m\u001b[38;5;124m'\u001b[39m)\n\u001b[1;32m----> 2\u001b[0m \u001b[38;5;28;01mimport\u001b[39;00m \u001b[38;5;21;01mnumpy\u001b[39;00m \u001b[38;5;28;01mas\u001b[39;00m \u001b[38;5;21;01mnp\u001b[39;00m\n\u001b[0;32m      3\u001b[0m \u001b[38;5;28;01mimport\u001b[39;00m \u001b[38;5;21;01mos\u001b[39;00m\n\u001b[0;32m      4\u001b[0m \u001b[38;5;28;01mimport\u001b[39;00m \u001b[38;5;21;01mcsv\u001b[39;00m\n",
      "\u001b[1;31mModuleNotFoundError\u001b[0m: No module named 'numpy'"
     ]
    }
   ],
   "source": [
    "%reset -f\n",
    "import numpy as np\n",
    "import os\n",
    "import csv\n",
    "import pandas as pd"
   ]
  },
  {
   "cell_type": "markdown",
   "metadata": {},
   "source": [
    "Generador de Archivo CSV de "
   ]
  },
  {
   "cell_type": "code",
   "execution_count": null,
   "metadata": {},
   "outputs": [],
   "source": [
    "muestra=pd.read_csv(\"EmiMuestra.csv\")\n",
    "\n",
    "ECO2=muestra['CO2(g/km)']\n",
    "ENOX=muestra['NOx (g/1000km)']\n",
    "Totales=muestra['Total']"
   ]
  },
  {
   "cell_type": "markdown",
   "metadata": {},
   "source": [
    "Selector de Muestra a analizar"
   ]
  },
  {
   "cell_type": "code",
   "execution_count": null,
   "metadata": {},
   "outputs": [
    {
     "name": "stdout",
     "output_type": "stream",
     "text": [
      "Se muestran los datos de la muestra número 94\n"
     ]
    }
   ],
   "source": [
    "Muestraso=[]\n",
    "Valores=[]\n",
    "i=0\n",
    "for i in range (len(Totales)):\n",
    "    T=Totales[i]/3\n",
    "    Valores.append(3*round(T))\n",
    "i=0\n",
    "for i in range(len(Valores)):\n",
    "    if  Valores[i]==Totales[i]:\n",
    "        Muestraso.append(i+1)\n",
    "    else:\n",
    "        pass\n",
    "        \n",
    "E=np.random.choice(Muestraso)\n",
    "\n",
    "if E>=0 and E<=len(ENOX):\n",
    "    print(\"Se muestran los datos de la muestra número\",E)\n",
    "    M=E-1\n",
    "    EmisionesNO=round(ENOX[M]/3)\n",
    "    EmisionesCO=round(ECO2[M]/3)\n",
    "else:\n",
    "    print(\"La entrada \",E, \" es invalida\")\n",
    "    E=input(print(\"Escriba el Muestreo que quiera obtener el objeto\") )"
   ]
  },
  {
   "cell_type": "code",
   "execution_count": null,
   "metadata": {},
   "outputs": [],
   "source": []
  },
  {
   "cell_type": "markdown",
   "metadata": {},
   "source": [
    "Aqui se calcula el centro de la posición de los autos laterales considerando que se encuentran a la misma distancia del central"
   ]
  },
  {
   "cell_type": "code",
   "execution_count": null,
   "metadata": {},
   "outputs": [],
   "source": [
    "Diferencia=(abs(-2.81877-2.93308))/3\n",
    "P1=0\n",
    "P2=Diferencia\n",
    "P3=-Diferencia"
   ]
  },
  {
   "cell_type": "markdown",
   "metadata": {},
   "source": [
    "Esta parte del codigo genera al nube de emisiones de cada tipo de oxido"
   ]
  },
  {
   "cell_type": "code",
   "execution_count": null,
   "metadata": {},
   "outputs": [],
   "source": [
    "A=[]\n",
    "B=[]\n",
    "C=[]\n",
    "Puntos=[\"radius\",\"x\",\"y\",\"z\"]"
   ]
  },
  {
   "cell_type": "markdown",
   "metadata": {},
   "source": [
    "Nube de Emisiones de NOx"
   ]
  },
  {
   "cell_type": "code",
   "execution_count": null,
   "metadata": {},
   "outputs": [],
   "source": [
    "_=0\n",
    "for _ in range(EmisionesNO):                                                                                      #Emisiones para el auto 1\n",
    "    X=(6*(np.random.randint((round(ENOX[M]/5))))/(round(ENOX[M]/3)))*((-1)**np.random.choice([1,2,1,2]))\n",
    "    if X==0:        #Se revisa que X no sea igual a 0 para evitar errores de tipo división entre 0\n",
    "        X=(6*(np.random.randint((round(ENOX[M]/5))))/(round(ENOX[M]/3)))*((-1)**np.random.choice([1,2,1,2]))\n",
    "    else:\n",
    "        pass\n",
    "    Y=(3*(np.random.randint((round(ENOX[M]/5))))/(round(ENOX[M]/3)))\n",
    "    Z=(3*(np.random.randint((round(ENOX[M]/5))))/(round(ENOX[M]/3)))*((-1)**np.random.choice([1,2,1,2]))\n",
    "    if Z==0:        #Se revisa que Z no sea igual a 0 para evitar errores de tipo división entre 0\n",
    "        Z=(6*(np.random.randint((round(ENOX[M]/5))))/(round(ENOX[M]/3)))*((-1)**np.random.choice([1,2,1,2]))\n",
    "    else:\n",
    "        pass\n",
    "    D=(np.sqrt((X-P1)**2+(Y-0)**2+(Z-0)**2))\n",
    "    R=0.001*(round(3+D**-2, 2))\n",
    "    A.append(R);A.append(X);A.append(Y);A.append(Z)\n",
    "    C.append(A)\n",
    "    A=[]        #Las variables de borran para evitar sobreescritura\n",
    "    X=Y=Z=R=D=0\n",
    "_=0\n",
    "for _ in range(EmisionesNO):                                                                                      #Emisiones para el auto 2\n",
    "    X=(6*(np.random.randint((round(ENOX[M]/5))))/(round(ENOX[M]/3)))*((-1)**np.random.choice([1,2,1,2]))\n",
    "    if X==0:        #Se revisa que X no sea igual a 0 para evitar errores de tipo división entre 0\n",
    "        X=(6*(np.random.randint((round(ENOX[M]/5))))/(round(ENOX[M]/3)))*((-1)**np.random.choice([1,2,1,2]))\n",
    "    else:\n",
    "        pass\n",
    "    Y=(3*(np.random.randint((round(ENOX[M]/5))))/(round(ENOX[M]/3)))\n",
    "    Z=(3*(np.random.randint((round(ENOX[M]/5))))/(round(ENOX[M]/3)))*((-1)**np.random.choice([1,2,1,2]))\n",
    "    if Z==0:        #Se revisa que Z no sea igual a 0 para evitar errores de tipo división entre 0\n",
    "        Z=(6*(np.random.randint((round(ENOX[M]/5))))/(round(ENOX[M]/3)))*((-1)**np.random.choice([1,2,1,2]))\n",
    "    else:\n",
    "        pass\n",
    "    D=(np.sqrt((X-P2)**2+(Y-0)**2+(Z-0)**2))\n",
    "    R=0.001*(round(3+D**-2, 2))\n",
    "    A.append(R);A.append(X);A.append(Y);A.append(Z)\n",
    "    C.append(A)\n",
    "    A=[]        #Las variables de borran para evitar sobreescritura\n",
    "    X=Y=Z=R=D=0\n",
    "_=0\n",
    "for _ in range(EmisionesNO):                                                                                      #Emisiones para el auto 3\n",
    "    X=(6*(np.random.randint((round(ENOX[M]/5))))/(round(ENOX[M]/3)))*((-1)**np.random.choice([1,2,1,2]))\n",
    "    if X==0:        #Se revisa que X no sea igual a 0 para evitar errores de tipo división entre 0\n",
    "        X=(6*(np.random.randint((round(ENOX[M]/5))))/(round(ENOX[M]/3)))*((-1)**np.random.choice([1,2,1,2]))\n",
    "    else:\n",
    "        pass\n",
    "    Y=(3*(np.random.randint((round(ENOX[M]/5))))/(round(ENOX[M]/3)))\n",
    "    Z=(3*(np.random.randint((round(ENOX[M]/5))))/(round(ENOX[M]/3)))*((-1)**np.random.choice([1,2,1,2]))\n",
    "    if Z==0:        #Se revisa que Z no sea igual a 0 para evitar errores de tipo división entre 0\n",
    "        Z=(6*(np.random.randint((round(ENOX[M]/5))))/(round(ENOX[M]/3)))*((-1)**np.random.choice([1,2,1,2]))\n",
    "    else:\n",
    "        pass\n",
    "    D=(np.sqrt((X-P3)**2+(Y-0)**2+(Z-0)**2))\n",
    "    R=0.001*(round(3+D**-2, 2))\n",
    "    A.append(R);A.append(X);A.append(Y);A.append(Z)\n",
    "    C.append(A)\n",
    "    A=[]        #Las variables de borran para evitar sobreescritura\n",
    "    X=Y=Z=R=D=0"
   ]
  },
  {
   "cell_type": "markdown",
   "metadata": {},
   "source": [
    "Archivo de guardado de datos"
   ]
  },
  {
   "cell_type": "code",
   "execution_count": null,
   "metadata": {},
   "outputs": [],
   "source": [
    "if os.path.exists(\"NOx.csv\"):\n",
    "    os.remove(\"NOx.csv\")            #Comprobación de si existe un archivo llamado NOx.csv y si existe se borrará para evitar sobreescritura de datos\n",
    "else: pass\n",
    "with open(\"NOx.csv\", \"a+\", newline ='') as Nitrogeno:\n",
    "    wr = csv.writer(Nitrogeno, dialect='excel', delimiter=',')\n",
    "    wr.writerow(Puntos)\n",
    "    p=0\n",
    "    for p in range(len(C)):\n",
    "        wr.writerow(C[p])\n",
    "A=[]\n",
    "B=[]\n",
    "C=[]"
   ]
  },
  {
   "cell_type": "markdown",
   "metadata": {},
   "source": [
    "Nube de Emisiones de CO2"
   ]
  },
  {
   "cell_type": "code",
   "execution_count": null,
   "metadata": {},
   "outputs": [],
   "source": [
    "_=0\n",
    "for _ in range(EmisionesCO):                                                                                      #Emisiones para el auto 1\n",
    "    X=(6*(np.random.randint((round(ECO2[M]/5))))/(round(ECO2[M]/3)))*((-1)**np.random.choice([1,2,1,2]))\n",
    "    if X==0:        #Se revisa que X no sea igual a 0 para evitar errores de tipo división entre 0\n",
    "        X=(6*(np.random.randint((round(ECO2[M]/5))))/(round(ECO2[M]/3)))*((-1)**np.random.choice([1,2,1,2]))\n",
    "    else:\n",
    "        pass\n",
    "    Y=(3*(np.random.randint((round(ECO2[M]/5))))/(round(ECO2[M]/3)))\n",
    "    Z=(3*(np.random.randint((round(ECO2[M]/5))))/(round(ECO2[M]/3)))*((-1)**np.random.choice([1,2,1,2]))\n",
    "    if Z==0:        #Se revisa que Z no sea igual a 0 para evitar errores de tipo división entre 0\n",
    "        Z=(6*(np.random.randint((round(ECO2[M]/5))))/(round(ECO2[M]/3)))*((-1)**np.random.choice([1,2,1,2]))\n",
    "    else:\n",
    "        pass\n",
    "    D=(np.sqrt((X-P1)**2+(Y-0)**2+(Z-0)**2))\n",
    "    R=0.001*(round(3+D**-2, 2))\n",
    "    A.append(R);A.append(X);A.append(Y);A.append(Z)\n",
    "    C.append(A)\n",
    "    A=[]        #Las variables de borran para evitar sobreescritura\n",
    "    X=Y=Z=R=D=0\n",
    "_=0\n",
    "for _ in range(EmisionesCO):                                                                                      #Emisiones para el auto 2\n",
    "    X=(6*(np.random.randint((round(ECO2[M]/5))))/(round(ECO2[M]/3)))*((-1)**np.random.choice([1,2,1,2]))\n",
    "    if X==0:        #Se revisa que X no sea igual a 0 para evitar errores de tipo división entre 0\n",
    "        X=(6*(np.random.randint((round(ECO2[M]/5))))/(round(ECO2[M]/3)))*((-1)**np.random.choice([1,2,1,2]))\n",
    "    else:\n",
    "        pass\n",
    "    Y=(3*(np.random.randint((round(ECO2[M]/5))))/(round(ECO2[M]/3)))\n",
    "    Z=(3*(np.random.randint((round(ECO2[M]/5))))/(round(ECO2[M]/3)))*((-1)**np.random.choice([1,2,1,2]))\n",
    "    if Z==0:        #Se revisa que Z no sea igual a 0 para evitar errores de tipo división entre 0\n",
    "        Z=(6*(np.random.randint((round(ECO2[M]/5))))/(round(ECO2[M]/3)))*((-1)**np.random.choice([1,2,1,2]))\n",
    "    else:\n",
    "        pass\n",
    "    D=(np.sqrt((X-P2)**2+(Y-0)**2+(Z-0)**2))\n",
    "    R=0.001*(round(3+D**-2, 2))\n",
    "    A.append(R);A.append(X);A.append(Y);A.append(Z)\n",
    "    C.append(A)\n",
    "    A=[]        #Las variables de borran para evitar sobreescritura\n",
    "    X=Y=Z=R=D=0\n",
    "_=0\n",
    "for _ in range(EmisionesCO):                                                                                      #Emisiones para el auto 3\n",
    "    X=(6*(np.random.randint((round(ECO2[M]/5))))/(round(ECO2[M]/3)))*((-1)**np.random.choice([1,2,1,2]))\n",
    "    if X==0:        #Se revisa que X no sea igual a 0 para evitar errores de tipo división entre 0\n",
    "        X=(6*(np.random.randint((round(ECO2[M]/5))))/(round(ECO2[M]/3)))*((-1)**np.random.choice([1,2,1,2]))\n",
    "    else:\n",
    "        pass\n",
    "    Y=(3*(np.random.randint((round(ECO2[M]/5))))/(round(ECO2[M]/3)))\n",
    "    Z=(3*(np.random.randint((round(ECO2[M]/5))))/(round(ECO2[M]/3)))*((-1)**np.random.choice([1,2,1,2]))\n",
    "    if Z==0:        #Se revisa que Z no sea igual a 0 para evitar errores de tipo división entre 0\n",
    "        Z=(6*(np.random.randint((round(ECO2[M]/5))))/(round(ECO2[M]/3)))*((-1)**np.random.choice([1,2,1,2]))\n",
    "    else:\n",
    "        pass\n",
    "    D=(np.sqrt((X-P3)**2+(Y-0)**2+(Z-0)**2))\n",
    "    R=0.001*(round(3+D**-2, 2))\n",
    "    A.append(R);A.append(X);A.append(Y);A.append(Z)\n",
    "    C.append(A)\n",
    "    A=[]        #Las variables de borran para evitar sobreescritura\n",
    "    X=Y=Z=R=D=0"
   ]
  },
  {
   "cell_type": "markdown",
   "metadata": {},
   "source": [
    "Archivo de guardado de datos"
   ]
  },
  {
   "cell_type": "code",
   "execution_count": null,
   "metadata": {},
   "outputs": [],
   "source": [
    "if os.path.exists(\"CO2.csv\"):\n",
    "    os.remove(\"CO2.csv\")            #Comprobación de si existe un archivo llamado NOx.csv y si existe se borrará para evitar sobreescritura de datos\n",
    "else: pass\n",
    "with open(\"CO2.csv\", \"a+\", newline ='') as Nitrogeno:\n",
    "    wr = csv.writer(Nitrogeno, dialect='excel', delimiter=',')\n",
    "    wr.writerow(Puntos)\n",
    "    p=0\n",
    "    for p in range(len(C)):\n",
    "        wr.writerow(C[p])"
   ]
  },
  {
   "cell_type": "code",
   "execution_count": null,
   "metadata": {},
   "outputs": [
    {
     "name": "stdout",
     "output_type": "stream",
     "text": [
      "Se abrirá una ventana de paraview con los datos de la muestra\n"
     ]
    }
   ],
   "source": [
    "print('Se abrirá una ventana de paraview con los datos de la muestra')\n",
    "os.system('Muestra.pvsm')\n",
    "exit()"
   ]
  }
 ],
 "metadata": {
  "interpreter": {
   "hash": "a4910bdd6faa03bcd2a3610fd3e013cf79f58fe74eb53a3ab036d9036f9f7d64"
  },
  "kernelspec": {
   "display_name": "Python 3.10.0 64-bit",
   "name": "python3"
  },
  "language_info": {
   "codemirror_mode": {
    "name": "ipython",
    "version": 3
   },
   "file_extension": ".py",
   "mimetype": "text/x-python",
   "name": "python",
   "nbconvert_exporter": "python",
   "pygments_lexer": "ipython3",
   "version": "3.10.0"
  },
  "orig_nbformat": 4
 },
 "nbformat": 4,
 "nbformat_minor": 2
}
