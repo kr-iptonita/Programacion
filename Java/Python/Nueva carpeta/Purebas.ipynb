{
 "cells": [
  {
   "cell_type": "code",
   "execution_count": 1,
   "metadata": {},
   "outputs": [],
   "source": [
    "import os\n",
    "import pandas as pd\n",
    "import numpy as np\n",
    "import csv\n",
    "import matplotlib.pyplot as plt\n",
    "import tkinter\n",
    "from tkinter import *\n",
    "from tkinter import messagebox\n",
    "if os.path.exists(\"Lista_de_Calificaciones.csv\"):\n",
    "    messagebox.showinfo(message=\"Los datos del archivo: Lista_de_Calificaciones.csv se borraran definitivamente y serán irrecuperables, en caso de querer guardarlos renombre o cambie el archivo de carpeta\")\n",
    "    os.remove(\"Lista_de_Calificaciones.csv\")\n",
    "else:\n",
    "    pass"
   ]
  },
  {
   "cell_type": "code",
   "execution_count": 2,
   "metadata": {},
   "outputs": [],
   "source": [
    "def Lista_de_alumnos():\n",
    "    Lista=[]\n",
    "    messagebox.showinfo(message=\"Escribira el nombre del alumno en la caja de texto y a continuación en aceptar\", title=\"Instrucciones\")\n",
    "    Alumno=tkinter.Label(ventana, text = \"El alumno anterior se mostrará aqui\",bg=\"green\", font=\"Helvetica 30\")\n",
    "    Alumno.pack(fill=tkinter.X,side=tkinter.TOP)\n",
    "    Nombre=tkinter.Entry(ventana)\n",
    "    Nombre.pack()\n",
    "    def NAlumn():\n",
    "        name=Nombre.get()\n",
    "        Lista.append(name)\n",
    "        Alumno[\"text\"]=name\n",
    "        Nombre.delete(0,END)\n",
    "    def Flista():\n",
    "        data = {'Alumnos': Lista}\n",
    "        df = pd.DataFrame(data,columns=['Alumnos'])\n",
    "        df.to_csv(\"Lista_de_Calificaciones.csv\")\n",
    "        Alumno.destroy()\n",
    "        Nombre.destroy()\n",
    "        aceptar.destroy()\n",
    "        terminar.destroy()\n",
    "        ParcialesS()\n",
    "    #def Tarea():\n",
    "    #    tareas=tkinter.Label(ventana,text=\"Cuantas tareas tuvo el parcial\")\n",
    "    #    tareas.pack()\n",
    "    #    tareasP=tkinter.Entry(ventana)\n",
    "    #    tareasP.pack()\n",
    "\n",
    "    def ParcialesS():\n",
    "        Parciales=tkinter.Label(ventana, text=\"¿Cuantos parciales tuvo el curso?\")\n",
    "        Parciales.pack()\n",
    "        Optionparciales = [1,2,3]\n",
    "        variable = tkinter.IntVar(ventana)\n",
    "        variable.set(Optionparciales[0])\n",
    "        par = tkinter.OptionMenu(ventana, variable, *Optionparciales)\n",
    "        par.config(width=90, font=('Helvetica', 12))\n",
    "        par.pack()\n",
    "        def Tarea():\n",
    "            Nparciales=variable.get()\n",
    "            i=0\n",
    "            print(Nparciales)\n",
    "            Caracteristicas=[]\n",
    "            Tcara=[]\n",
    "            for i in range(Nparciales):\n",
    "                t=i+1\n",
    "                tarea=tkinter.Label(ventana, text=\"¿Cuantas Tareas hubo en el parcial {}?\".format(t))\n",
    "                tarea.pack()\n",
    "                Opciones=[1,2,3,4,5,6,7,8,9,10]\n",
    "                var=tkinter.IntVar(ventana)\n",
    "                var.set(Opciones)\n",
    "                Ntars=tkinter.OptionMenu(ventana,variable, *Opciones)\n",
    "                Ntars.config(width=90, font=('Helvetica', 12))\n",
    "                Ntars.pack()\n",
    "                cantidad=tkinter.Button(ventana, text=\"aceptar\", command=Tcara.append(var.get()))\n",
    "                print(Tcara)\n",
    "                \n",
    "\n",
    "            Parciales.destroy()\n",
    "            par.destroy()\n",
    "            acep.destroy()\n",
    "\n",
    "        acep=tkinter.Button(ventana, text=\"Aceptar\", command=Tarea)\n",
    "        acep.pack()\n",
    "\n",
    "    aceptar=tkinter.Button(ventana, text=\"Aceptar\", command=NAlumn)\n",
    "    aceptar.pack()\n",
    "    terminar=tkinter.Button(ventana, text=\"Terminar\", command=Flista)\n",
    "    terminar.pack()"
   ]
  },
  {
   "cell_type": "code",
   "execution_count": 3,
   "metadata": {},
   "outputs": [],
   "source": [
    "ventana=tkinter.Tk()\n",
    "ventana.geometry(\"800x600\")\n",
    "bMenu= Menu(ventana)\n",
    "mnuN=Menu(bMenu)\n",
    "mnuN.add_command(label=\"Generar lista de Alumnos\", command=Lista_de_alumnos)\n",
    "mnuN.add_command (label=\"cerrar\", command=ventana.destroy)\n",
    "ventana.config(menu=mnuN)\n",
    "ventana.mainloop()"
   ]
  },
  {
   "cell_type": "code",
   "execution_count": 1,
   "metadata": {},
   "outputs": [
    {
     "name": "stdout",
     "output_type": "stream",
     "text": [
      "F:/KR/Documentos/Nueva carpeta/Calificaciones.xlsx\n"
     ]
    }
   ],
   "source": [
    "    import tkinter, re\n",
    "    from tkinter import filedialog\n",
    "    root = tkinter.Tk()\n",
    "    root.withdraw()\n",
    "    file_path = filedialog.askopenfilename()\n",
    "    match = re.search(r'/.*\\..+', file_path)\n",
    "    file_position = file_path.find(match.group())\n",
    "    save_path = file_path[0: file_position+1]\n",
    "    print(file_path)"
   ]
  },
  {
   "cell_type": "code",
   "execution_count": 3,
   "metadata": {},
   "outputs": [
    {
     "name": "stdout",
     "output_type": "stream",
     "text": [
      "F:/KR/Documentos/Nueva carpeta/Calificaciones.xlsx\n",
      "xdxdxd\n"
     ]
    }
   ],
   "source": [
    "    import tkinter, re\n",
    "    import pandas as pd\n",
    "    from tkinter import filedialog\n",
    "    root = tkinter.Tk()\n",
    "    root.withdraw()\n",
    "    file_path = filedialog.askopenfilename()\n",
    "    match = re.search(r'/.*\\..+', file_path)\n",
    "    file_position = file_path.find(match.group())\n",
    "    save_path = file_path[0: file_position+1]\n",
    "    print(file_path)\n",
    "    df=pd.read_excel(file_path)\n",
    "    "
   ]
  }
 ],
 "metadata": {
  "interpreter": {
   "hash": "a4910bdd6faa03bcd2a3610fd3e013cf79f58fe74eb53a3ab036d9036f9f7d64"
  },
  "kernelspec": {
   "display_name": "Python 3.10.2 64-bit",
   "language": "python",
   "name": "python3"
  },
  "language_info": {
   "codemirror_mode": {
    "name": "ipython",
    "version": 3
   },
   "file_extension": ".py",
   "mimetype": "text/x-python",
   "name": "python",
   "nbconvert_exporter": "python",
   "pygments_lexer": "ipython3",
   "version": "3.10.2"
  },
  "orig_nbformat": 4
 },
 "nbformat": 4,
 "nbformat_minor": 2
}
