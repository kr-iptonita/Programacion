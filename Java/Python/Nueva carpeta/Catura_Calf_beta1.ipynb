{
 "cells": [
  {
   "cell_type": "code",
   "execution_count": 34,
   "metadata": {},
   "outputs": [],
   "source": [
    "import os\n",
    "import pandas as pd\n",
    "import numpy as np\n",
    "import csv\n",
    "import matplotlib.pyplot as plt\n",
    "import tkinter\n",
    "from tkinter import *\n",
    "from tkinter import messagebox\n",
    "if os.path.exists(\"Lista_de_Calificaciones.csv\"):\n",
    "    messagebox.showinfo(message=\"Los datos del archivo: Lista_de_Calificaciones.csv se borraran definitivamente y serán irrecuperables, en caso de querer guardarlos renombre o cambie el archivo de carpeta\")\n",
    "    os.remove(\"Lista_de_Calificaciones.csv\")\n",
    "else:\n",
    "    pass"
   ]
  },
  {
   "cell_type": "markdown",
   "metadata": {},
   "source": [
    "Definiciones"
   ]
  },
  {
   "cell_type": "markdown",
   "metadata": {},
   "source": [
    "Abrir"
   ]
  },
  {
   "cell_type": "code",
   "execution_count": 35,
   "metadata": {},
   "outputs": [],
   "source": [
    "def Abrir():\n",
    "    import tkinter, re\n",
    "    from tkinter import filedialog\n",
    "    root = tkinter.Tk()\n",
    "    root.withdraw()\n",
    "    file_path = filedialog.askopenfilename()\n",
    "    match = re.search(r'/.*\\..+', file_path)\n",
    "    file_position = file_path.find(match.group())\n",
    "    save_path = file_path[0: file_position+1]\n",
    "    print(file_path)\n",
    "    root.destroy()\n",
    "    df=pd.read_excel(file_path)\n",
    "    if \"Alumnos\" in df.columns:\n",
    "        Alumnos=df[\"Alumnos\"]\n",
    "        messagebox.showinfo(message=\"Ya tiene registrados {} alumnos\".format(len(Alumnos)))\n",
    "        print(len(df))\n",
    "    else: Nuevo\n"
   ]
  },
  {
   "cell_type": "markdown",
   "metadata": {},
   "source": [
    "Nuevo"
   ]
  },
  {
   "cell_type": "code",
   "execution_count": 36,
   "metadata": {},
   "outputs": [],
   "source": [
    "def Nuevo():\n",
    "    ventana.destroy()\n",
    "    "
   ]
  },
  {
   "cell_type": "markdown",
   "metadata": {},
   "source": [
    "Añadir"
   ]
  },
  {
   "cell_type": "code",
   "execution_count": 37,
   "metadata": {},
   "outputs": [],
   "source": [
    "def Tarea():\n",
    "    ventana.destroy()"
   ]
  },
  {
   "cell_type": "code",
   "execution_count": 38,
   "metadata": {},
   "outputs": [],
   "source": [
    "def Proyecto():\n",
    "    ventana.destroy()"
   ]
  },
  {
   "cell_type": "code",
   "execution_count": 39,
   "metadata": {},
   "outputs": [],
   "source": [
    "def Examen():\n",
    "    ventana.destroy()"
   ]
  },
  {
   "cell_type": "markdown",
   "metadata": {},
   "source": [
    "Editar"
   ]
  },
  {
   "cell_type": "code",
   "execution_count": 40,
   "metadata": {},
   "outputs": [],
   "source": [
    "def Editar():\n",
    "    ventana.destroy()"
   ]
  },
  {
   "cell_type": "markdown",
   "metadata": {},
   "source": [
    "Leer"
   ]
  },
  {
   "cell_type": "code",
   "execution_count": 41,
   "metadata": {},
   "outputs": [],
   "source": [
    "def Leer():\n",
    "    ventana.destroy"
   ]
  },
  {
   "cell_type": "markdown",
   "metadata": {},
   "source": [
    "Ventana"
   ]
  },
  {
   "cell_type": "code",
   "execution_count": 43,
   "metadata": {},
   "outputs": [],
   "source": [
    "ventana=tkinter.Tk()\n",
    "ventana.geometry(\"800x600\")\n",
    "BAnadir= Menu(ventana)\n",
    "Anadir=Menu(BAnadir)\n",
    "mnuN=Menu(ventana)\n",
    "mnuN.add_command(label=\"Abrir\", command=Abrir)\n",
    "mnuN.add_command(label=\"Nuevo\", command=Nuevo)\n",
    "mnuN.add_command(label=\"Editar\", command=Editar)\n",
    "mnuN.add_command(label=\"Leer\", command=Leer)\n",
    "mnuN.add_command (label=\"cerrar\", command=ventana.destroy)\n",
    "\n",
    "Anadir.add_command(label=\"Añadir\", command=Tarea)\n",
    "Anadir.add_command(label=\"Proyecto\", command=Proyecto)\n",
    "Anadir.add_command(label=\"Examen\", command=Examen)\n",
    "\n",
    "BAnadir.add_cascade(label=\"Añadir\", menu=Anadir)\n",
    "\n",
    "ventana.config(menu=mnuN)\n",
    "ventana.mainloop()"
   ]
  }
 ],
 "metadata": {
  "interpreter": {
   "hash": "a4910bdd6faa03bcd2a3610fd3e013cf79f58fe74eb53a3ab036d9036f9f7d64"
  },
  "kernelspec": {
   "display_name": "Python 3.10.0 64-bit",
   "language": "python",
   "name": "python3"
  },
  "language_info": {
   "codemirror_mode": {
    "name": "ipython",
    "version": 3
   },
   "file_extension": ".py",
   "mimetype": "text/x-python",
   "name": "python",
   "nbconvert_exporter": "python",
   "pygments_lexer": "ipython3",
   "version": "3.10.2"
  },
  "orig_nbformat": 4
 },
 "nbformat": 4,
 "nbformat_minor": 2
}
