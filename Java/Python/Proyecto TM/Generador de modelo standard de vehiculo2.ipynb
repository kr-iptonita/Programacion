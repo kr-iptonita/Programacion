{
 "cells": [
  {
   "cell_type": "markdown",
   "metadata": {},
   "source": [
    "Avances del proyecto del Taller de Modelacion 1.\n",
    "\n",
    "Integrantes:\n",
    "    - Degollado Munoz Andres (DMA)\n",
    "    - Juarez Torres Carlos Alberto (JTCA)\n",
    "    - Vega Gonzalez Pedro Ruben (VGPR)\n",
    "    \n",
    "Nombre del programa: Proyecto_TMM1_DMA_JTCA_VGPR.ipynb"
   ]
  },
  {
   "cell_type": "code",
   "execution_count": 114,
   "metadata": {},
   "outputs": [],
   "source": [
    "\n",
    "#-----Bibliotecas y clases importadas\n",
    "import matplotlib.pyplot as plt\n",
    "import numpy as np\n",
    "import pandas as pd\n",
    "#-------------------"
   ]
  },
  {
   "cell_type": "code",
   "execution_count": 115,
   "metadata": {},
   "outputs": [],
   "source": [
    "#Acceso a  base de datos de muestreo de automoviles en un semaforo\n",
    "muestra=pd.read_csv(\"muestra.csv\")\n",
    "#definición del muestreo bajo marca\n",
    "Nissan=muestra['Nissan']\n",
    "Volkswagen=muestra['WW']\n",
    "Toyota=muestra['Toyota']\n",
    "Chevrolet=muestra['Chevrolet']\n",
    "Ford=muestra['Ford']"
   ]
  },
  {
   "cell_type": "code",
   "execution_count": 116,
   "metadata": {},
   "outputs": [],
   "source": [
    "Total=[]\n",
    "PNissan=[]\n",
    "PVolkswagen=[]\n",
    "PToyota=[]\n",
    "PChevrolet=[]\n",
    "PFord=[]\n"
   ]
  },
  {
   "cell_type": "code",
   "execution_count": 117,
   "metadata": {},
   "outputs": [],
   "source": [
    "#Calculo de totales de los muestreos\n",
    "Tam=len(Ford)\n",
    "i=0\n",
    "for i in range(Tam):\n",
    "    Total.append(Nissan[i]+Volkswagen[i]+Toyota[i]+Chevrolet[i]+Ford[i])\n"
   ]
  },
  {
   "cell_type": "code",
   "execution_count": 118,
   "metadata": {},
   "outputs": [],
   "source": [
    "#Calculo del porcentual de cada marca para cada muestreo.\n",
    "i=0\n",
    "for i in range(Tam):\n",
    "    PNissan.append(Nissan[i]/Total[i])\n",
    "    PFord.append(Ford[i]/Total[i])\n",
    "    PVolkswagen.append(Volkswagen[i]/Total[i])\n",
    "    PToyota.append(Toyota[i]/Total[i])\n",
    "    PChevrolet.append(Chevrolet[i]/Total[i])"
   ]
  },
  {
   "cell_type": "code",
   "execution_count": 119,
   "metadata": {},
   "outputs": [],
   "source": [
    "i=0\n",
    "PredM=[]\n",
    "for i in range(Tam):\n",
    "    A=max(PNissan[i],PFord[i],PVolkswagen[i],PToyota[i],PChevrolet[i])\n",
    "    if A==PNissan[i]:\n",
    "        PredM.append('Nissan')\n",
    "    elif A==PFord[i]:\n",
    "            PredM.append('Ford')\n",
    "    elif A==PToyota[i]:\n",
    "            PredM.append('Toyota')\n",
    "    elif A==PChevrolet[i]:\n",
    "            PredM.append('Chevrolet')\n",
    "    else:\n",
    "        PredM.append('Wolkswagen')"
   ]
  },
  {
   "cell_type": "code",
   "execution_count": 120,
   "metadata": {},
   "outputs": [],
   "source": [
    "i=0\n",
    "MNissan=0\n",
    "MToyota=0\n",
    "MFord=0\n",
    "MChevrolet=0\n",
    "MVolkswagen=0\n",
    "for i in range(len(PredM)):\n",
    "    if PredM[i] =='Chevrolet':\n",
    "        MChevrolet=MChevrolet+1\n",
    "    elif PredM[i] =='Nissan':\n",
    "        MNissan=MNissan+1\n",
    "    elif PredM[i] =='Toyota':\n",
    "        MToyota=MToyota+1\n",
    "    elif PredM[i] =='Ford':\n",
    "        MFord=MFord+1\n",
    "    else: MVolkswagen=MVolkswagen+1\n",
    "PNS=max(MNissan,MToyota,MChevrolet,MFord,MVolkswagen)\n",
    "if PNS==MNissan:\n",
    "    PRS='Nissan'\n",
    "elif PNS==MToyota:\n",
    "    PRS='Toyota'\n",
    "elif PNS==MFord:\n",
    "    PRS='Ford'\n",
    "elif PNS==MVolkswagen:\n",
    "    PRS='Wolkswagen'\n",
    "else: PRS='Chevrolet'\n",
    "\n"
   ]
  },
  {
   "cell_type": "code",
   "execution_count": 121,
   "metadata": {},
   "outputs": [
    {
     "name": "stdout",
     "output_type": "stream",
     "text": [
      "La Marca Predominante Es: Nissan\n"
     ]
    }
   ],
   "source": [
    "print('La Marca Predominante Es:',PRS)"
   ]
  },
  {
   "cell_type": "code",
   "execution_count": 122,
   "metadata": {},
   "outputs": [],
   "source": [
    "#Subprograma para ver cual es la codificación del archivo\n",
    "import chardet\n",
    "\n",
    "with open(\"Emisiones.csv\", 'rb') as rawdata:\n",
    "    result = chardet.detect(rawdata.read(100000))\n",
    "result #impresión de la información del archivo y su codificación\n",
    "#Acceso a base de datos de emisiones por modelo de auto\n",
    "Emisiones = pd.read_csv(\"Emisiones.csv\", encoding='ISO-8859-1')#se añade el tipo de codificación para para evitar errores en la lectura del archivo"
   ]
  },
  {
   "cell_type": "code",
   "execution_count": 154,
   "metadata": {},
   "outputs": [],
   "source": [
    "Marca=Emisiones['Marca']\n",
    "Combustible=Emisiones['Comb.']\n",
    "CO2=Emisiones['CO2(g/km)']\n",
    "NOx=Emisiones['NOx (g/1000km)']\n",
    "ECO_Nissan=[]\n",
    "ECO_Ford=[]\n",
    "ECO_VW=[]\n",
    "ECO_Toyota=[]\n",
    "ECO_Chevrolet=[]\n",
    "ENOx_Nissan=[]\n",
    "ENOx_Ford=[]\n",
    "ENOx_VW=[]\n",
    "ENOx_Toyota=[]\n",
    "ENOx_Chevrolet=[]\n",
    "OtrosCO=[]\n",
    "OtrosNOx=[]\n",
    "Tems=len(Marca)\n"
   ]
  },
  {
   "cell_type": "code",
   "execution_count": 156,
   "metadata": {},
   "outputs": [],
   "source": [
    "for i in range(Tems):\n",
    "    if Combustible[i]=='Gasolina':\n",
    "        if Marca[i]=='FORD':\n",
    "            ECO_Ford.append(CO2[i])\n",
    "            ENOx_Ford.append(NOx[i])\n",
    "        elif Marca[i]=='CHEVROLET':\n",
    "            ECO_Chevrolet.append(CO2[i])\n",
    "            ENOx_Chevrolet.append(NOx[i])\n",
    "        elif Marca[i]=='VW':\n",
    "            ECO_VW.append(CO2[i])\n",
    "            ENOx_VW.append(NOx[i])\n",
    "        elif Marca[i]=='TOYOTA':\n",
    "            ECO_Toyota.append(CO2[i])\n",
    "            ENOx_Toyota.append(NOx[i])\n",
    "        elif Marca[i]=='NISSAN':\n",
    "            ECO_Nissan.append(CO2[i])\n",
    "            ENOx_Nissan.append(NOx[i])\n",
    "        else: OtrosCO.append(CO2[i]); OtrosNOx.append(NOx[i])\n",
    "    else: OtrosCO.append(CO2[i]); OtrosNOx.append(NOx[i])\n",
    "\n"
   ]
  },
  {
   "cell_type": "code",
   "execution_count": 164,
   "metadata": {},
   "outputs": [
    {
     "data": {
      "text/plain": [
       "[232.37885462555067, 19.859030837004404]"
      ]
     },
     "execution_count": 164,
     "metadata": {},
     "output_type": "execute_result"
    }
   ],
   "source": [
    "Generic_Nissan=[np.mean(ECO_Nissan),np.mean(ENOx_Nissan)]\n",
    "Generic_Ford=[np.mean(ECO_Ford),np.mean(ENOx_Ford)]\n",
    "Generic_Toyota=[np.mean(ECO_Toyota),np.mean(ENOx_Toyota)]\n",
    "Generic_VW=[np.mean(ECO_VW),np.mean(ENOx_VW)]\n",
    "Generic_Chevrolet=[np.mean(ECO_Chevrolet),np.mean(ENOx_Chevrolet)]\n",
    "\n",
    "\n"
   ]
  }
 ],
 "metadata": {
  "interpreter": {
   "hash": "b1c13f4e52c64b2735bf8609d03d865a52c8d58bf4176228ba308d4f8d8d6f39"
  },
  "kernelspec": {
   "display_name": "Python 3.9.9 64-bit (windows store)",
   "language": "python",
   "name": "python3"
  },
  "language_info": {
   "codemirror_mode": {
    "name": "ipython",
    "version": 3
   },
   "file_extension": ".py",
   "mimetype": "text/x-python",
   "name": "python",
   "nbconvert_exporter": "python",
   "pygments_lexer": "ipython3",
   "version": "3.9.9"
  },
  "orig_nbformat": 4
 },
 "nbformat": 4,
 "nbformat_minor": 2
}
