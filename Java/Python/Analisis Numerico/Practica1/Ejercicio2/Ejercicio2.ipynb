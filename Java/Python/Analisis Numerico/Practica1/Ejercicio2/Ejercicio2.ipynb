{
 "cells": [
  {
   "cell_type": "code",
   "execution_count": null,
   "metadata": {},
   "outputs": [],
   "source": [
    "#Importacion de librerias\n",
    "import numpy as np\n",
    "import time\n",
    "import matplotlib.pyplot as plt"
   ]
  },
  {
   "cell_type": "code",
   "execution_count": null,
   "metadata": {},
   "outputs": [],
   "source": [
    "#Quicksort \n",
    "\n",
    "\n",
    "def partition(izquierda, derecha, x):\n",
    "    pivot, ptr = x[derecha], izquierda\n",
    "    for i in range(izquierda, derecha):\n",
    "        if x[i] <= pivot:\n",
    "            x[i], x[ptr] = x[ptr], x[i]\n",
    "            ptr += 1\n",
    "    x[ptr], x[derecha] = x[derecha], x[ptr]\n",
    "    return ptr\n",
    " \n",
    "\n",
    "def quicksort_c1(x):\n",
    "    izq= 0\n",
    "    der= len(x)-1\n",
    "    alpha=x\n",
    "    return quicksort(izq, der, alpha)\n",
    " \n",
    "def quicksort(I, D, x):\n",
    "    if len(x) == 1: \n",
    "        return x\n",
    "    if I < D:\n",
    "        pi = partition(I, D, x)\n",
    "        quicksort(I, pi-1, x)  \n",
    "        quicksort(pi+1, D, x)  \n",
    "    return x"
   ]
  },
  {
   "cell_type": "code",
   "execution_count": null,
   "metadata": {},
   "outputs": [],
   "source": [
    "#Burbuja\n",
    "def Burbuja(x): \n",
    "    n=len(x)\n",
    "    i=0\n",
    "    for i in range (n-1): \n",
    "        j=0\n",
    "        for j in range(n - 1):  \n",
    "            if x[j] > x[j+1]:  \n",
    "                x[j], x[j+1] = x[j+1], x[j]\n",
    "    return x"
   ]
  },
  {
   "cell_type": "code",
   "execution_count": null,
   "metadata": {},
   "outputs": [],
   "source": [
    "#Insercion\n",
    "def Insercion(x):\n",
    "    n=len(x)\n",
    "    for i in range(1, n):\n",
    "        clave = x[i]\n",
    "        j = i - 1\n",
    "                \n",
    "        while j >= 0 and clave < x[j]:\n",
    "            x[j + 1] = x[j]\n",
    "            j = j - 1\n",
    "        \n",
    "        x[j + 1] = clave\n",
    "    return x"
   ]
  },
  {
   "cell_type": "code",
   "execution_count": null,
   "metadata": {},
   "outputs": [],
   "source": [
    "#Obtención de datos por parte del usuario\n",
    "def esflotante(num):\n",
    "    try:\n",
    "        float(num)\n",
    "        return True\n",
    "    except ValueError:\n",
    "        return False\n",
    "\n",
    "\n",
    "datos=[]\n",
    "datos_brutos=[]\n",
    "\n",
    "lista=input(\"Escriba uno a uno los elementos a ordenar, use enter para añadir otro elemento y escriba 'y' para terminar\")\n",
    "while lista !='y':\n",
    "    datos_brutos.append(lista)\n",
    "    lista=input(\"Escriba uno a uno los elementos a ordenar, use enter para añadir otro elemento y escriba 'y' para terminar\")\n",
    "\n",
    "for i in range(len(datos_brutos)):\n",
    "    dato=datos_brutos[i]\n",
    "    if dato.isnumeric()==True:\n",
    "        datos.append(datos_brutos[i])\n",
    "    elif esflotante(dato)==True:\n",
    "        datos.append(datos_brutos[i])\n",
    "    else:\n",
    "        pass\n",
    "    \n",
    "datos_ft=tuple(map(float,datos))\n",
    "datos_float= list(datos_ft)"
   ]
  },
  {
   "cell_type": "code",
   "execution_count": null,
   "metadata": {},
   "outputs": [],
   "source": [
    "#el siguiente codigo se puede descomentar para usar una lista de 500 elementos de tipo FLOAT sin tener que introducirlos manualmente\n",
    "\"\"\" \n",
    "datos_float=np.random.rand(1,500)[0]\n",
    "\n",
    "\"\"\"\n",
    "datos_float=np.random.rand(1,500)\n",
    "datos_float_c = datos_float[0][:]\n",
    "\n",
    "inicio=time.time()\n",
    "a=quicksort_c1(datos_float_c)\n",
    "a_t=time.time()-inicio\n",
    "\n",
    "datos_float_c = datos_float[0][:]\n",
    "\n",
    "inicio_2=time.time()\n",
    "b=Burbuja(datos_float_c)\n",
    "b_t=time.time()-inicio_2\n",
    "\n",
    "datos_float_c = datos_float[0][:]\n",
    "\n",
    "inicio_3=time.time()\n",
    "c=Insercion(datos_float_c)\n",
    "c_t=time.time()-inicio_3\n",
    "\n",
    "\n",
    "#print(a)\n",
    "\n",
    "#print(b)\n",
    "\n",
    "#print(c)\n"
   ]
  },
  {
   "cell_type": "code",
   "execution_count": null,
   "metadata": {},
   "outputs": [],
   "source": [
    "#Graficación\n",
    "\n",
    "n=[a_t, b_t, c_t]\n",
    "algoritmos=[\"Quicksort\", \"Burbuja\", \"Insercion\"]\n",
    "plt.bar(algoritmos,n)\n",
    "plt.title(\"tiempos de ejecución en microsegundos para cada algoritmo en una lista de tamaño \")\n",
    "plt.xlabel(\"algoritmos\")\n",
    "plt.ylabel(\"microsegundos\")\n",
    "plt.yscale(\"log\",base=10)\n",
    "plt.show()\n",
    "\n",
    "print(\"Tiempos de ejecución en microsegundos\")\n",
    "print(\"Quiksort \",a_t)\n",
    "print(\"Burbuja \",b_t)\n",
    "print(\"Inserción \",c_t)"
   ]
  }
 ],
 "metadata": {
  "kernelspec": {
   "display_name": "Python 3.10.5 64-bit",
   "language": "python",
   "name": "python3"
  },
  "language_info": {
   "codemirror_mode": {
    "name": "ipython",
    "version": 3
   },
   "file_extension": ".py",
   "mimetype": "text/x-python",
   "name": "python",
   "nbconvert_exporter": "python",
   "pygments_lexer": "ipython3",
   "version": "3.10.5"
  },
  "orig_nbformat": 4,
  "vscode": {
   "interpreter": {
    "hash": "2ce5abb18d857f9e49c088cba8187933cc9324131c494c3be04c4f561bc9060e"
   }
  }
 },
 "nbformat": 4,
 "nbformat_minor": 2
}
