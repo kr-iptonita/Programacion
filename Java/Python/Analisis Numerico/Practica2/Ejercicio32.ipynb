{
 "cells": [
  {
   "cell_type": "code",
   "execution_count": 48,
   "metadata": {},
   "outputs": [],
   "source": [
    "import numpy as np"
   ]
  },
  {
   "cell_type": "code",
   "execution_count": 49,
   "metadata": {},
   "outputs": [],
   "source": [
    "A=np.array([[2,-1,0],[-1,2,-1],[0,-1,2]])\n",
    "B=np.array([[4,1,1,1],[1,3,-1,1],[1,-1,2,0],[1,1,0,2]])\n",
    "C=np.array([[4,1,-1,0],[1,3,-1,0],[-1,-1,5,2],[0,0,2,4]])\n",
    "D=np.array([[6,2,1,-1],[2,4,1,0],[1,1,4,-1],[-1,0,-1,3]])\n",
    "\n"
   ]
  },
  {
   "cell_type": "code",
   "execution_count": 50,
   "metadata": {},
   "outputs": [],
   "source": [
    "NMatrices=[\"A\",\"B\",\"C\",\"D\"]\n",
    "Matrices=[A,B,C,D]"
   ]
  },
  {
   "cell_type": "code",
   "execution_count": 95,
   "metadata": {},
   "outputs": [],
   "source": [
    "def LDL(x):\n",
    "    l=np.linalg.cholesky(x)\n",
    "    d=(np.diag(x))\n",
    "    n=len(x)\n",
    "    D=np.zeros([n,n])\n",
    "    for k in range(n):\n",
    "        for r in range(n):\n",
    "            if (k == r):\n",
    "                l[k, r] = 1\n",
    "    \n",
    "    for i in range(n):\n",
    "        for j in range(n):\n",
    "            if (i == j):\n",
    "                D[i, j]= d[j]\n",
    "            else: pass\n",
    "    print(l)\n",
    "    print(D)\n",
    "    print(np.transpose(l))\n",
    "\n"
   ]
  },
  {
   "cell_type": "code",
   "execution_count": 96,
   "metadata": {},
   "outputs": [
    {
     "name": "stdout",
     "output_type": "stream",
     "text": [
      "La factorización de la matriz A es\n",
      "A =\n",
      "[[ 1.41421356  0.          0.        ]\n",
      " [-0.70710678  1.22474487  0.        ]\n",
      " [ 0.         -0.81649658  1.15470054]]\n",
      "[[ 1.41421356 -0.70710678  0.        ]\n",
      " [ 0.          1.22474487 -0.81649658]\n",
      " [ 0.          0.          1.15470054]]\n",
      "La factorización de la matriz B es\n",
      "B =\n",
      "[[ 2.          0.          0.          0.        ]\n",
      " [ 0.5         1.6583124   0.          0.        ]\n",
      " [ 0.5        -0.75377836  1.08711461  0.        ]\n",
      " [ 0.5         0.45226702  0.0836242   1.24034735]]\n",
      "[[ 2.          0.5         0.5         0.5       ]\n",
      " [ 0.          1.6583124  -0.75377836  0.45226702]\n",
      " [ 0.          0.          1.08711461  0.0836242 ]\n",
      " [ 0.          0.          0.          1.24034735]]\n",
      "La factorización de la matriz C es\n",
      "C =\n",
      "[[ 2.          0.          0.          0.        ]\n",
      " [ 0.5         1.6583124   0.          0.        ]\n",
      " [-0.5        -0.45226702  2.13200716  0.        ]\n",
      " [ 0.          0.          0.93808315  1.76635217]]\n",
      "[[ 2.          0.5        -0.5         0.        ]\n",
      " [ 0.          1.6583124  -0.45226702  0.        ]\n",
      " [ 0.          0.          2.13200716  0.93808315]\n",
      " [ 0.          0.          0.          1.76635217]]\n",
      "La factorización de la matriz D es\n",
      "D =\n",
      "[[ 2.44948974  0.          0.          0.        ]\n",
      " [ 0.81649658  1.82574186  0.          0.        ]\n",
      " [ 0.40824829  0.36514837  1.92353841  0.        ]\n",
      " [-0.40824829  0.18257419 -0.46788772  1.60657433]]\n",
      "[[ 2.44948974  0.81649658  0.40824829 -0.40824829]\n",
      " [ 0.          1.82574186  0.36514837  0.18257419]\n",
      " [ 0.          0.          1.92353841 -0.46788772]\n",
      " [ 0.          0.          0.          1.60657433]]\n"
     ]
    }
   ],
   "source": [
    "for i in range(len(NMatrices)):\n",
    "    m=NMatrices[i]\n",
    "    print(\"La factorización de la matriz \" +NMatrices[i]+ \" es\") \n",
    "    L=np.linalg.cholesky(Matrices[i])\n",
    "    print(NMatrices[i],\"=\")\n",
    "    print(L)\n",
    "    print(np.transpose(L))\n"
   ]
  },
  {
   "cell_type": "code",
   "execution_count": 97,
   "metadata": {},
   "outputs": [
    {
     "name": "stdout",
     "output_type": "stream",
     "text": [
      "[2.44948974 1.82574186 1.92353841 1.60657433]\n"
     ]
    }
   ],
   "source": [
    "d=(np.diag(L))\n",
    "print(d)"
   ]
  },
  {
   "cell_type": "code",
   "execution_count": 100,
   "metadata": {},
   "outputs": [
    {
     "name": "stdout",
     "output_type": "stream",
     "text": [
      "La factorización LL^t de la matriz A es\n",
      "A =\n",
      "[[ 1.41421356  0.          0.        ]\n",
      " [-0.70710678  1.22474487  0.        ]\n",
      " [ 0.         -0.81649658  1.15470054]]\n",
      "[[ 1.41421356 -0.70710678  0.        ]\n",
      " [ 0.          1.22474487 -0.81649658]\n",
      " [ 0.          0.          1.15470054]]\n",
      "La factorización LDL^t de la matriz A es\n",
      "A =\n",
      "[[ 1.          0.          0.        ]\n",
      " [-0.59460356  1.          0.        ]\n",
      " [ 0.         -0.87477741  1.        ]]\n",
      "[[1.41421356 0.         0.        ]\n",
      " [0.         1.22474487 0.        ]\n",
      " [0.         0.         1.15470054]]\n",
      "[[ 1.         -0.59460356  0.        ]\n",
      " [ 0.          1.         -0.87477741]\n",
      " [ 0.          0.          1.        ]]\n",
      "La factorización LL^t de la matriz B es\n",
      "B =\n",
      "[[ 2.          0.          0.          0.        ]\n",
      " [ 0.5         1.6583124   0.          0.        ]\n",
      " [ 0.5        -0.75377836  1.08711461  0.        ]\n",
      " [ 0.5         0.45226702  0.0836242   1.24034735]]\n",
      "[[ 2.          0.5         0.5         0.5       ]\n",
      " [ 0.          1.6583124  -0.75377836  0.45226702]\n",
      " [ 0.          0.          1.08711461  0.0836242 ]\n",
      " [ 0.          0.          0.          1.24034735]]\n",
      "La factorización LDL^t de la matriz B es\n",
      "B =\n",
      "[[ 1.          0.          0.          0.        ]\n",
      " [ 0.35355339  1.          0.          0.        ]\n",
      " [ 0.35355339 -0.70968239  1.          0.        ]\n",
      " [ 0.35355339  0.26429376  0.21590408  1.        ]]\n",
      "[[2.         0.         0.         0.        ]\n",
      " [0.         1.6583124  0.         0.        ]\n",
      " [0.         0.         1.08711461 0.        ]\n",
      " [0.         0.         0.         1.24034735]]\n",
      "[[ 1.          0.35355339  0.35355339  0.35355339]\n",
      " [ 0.          1.         -0.70968239  0.26429376]\n",
      " [ 0.          0.          1.          0.21590408]\n",
      " [ 0.          0.          0.          1.        ]]\n",
      "La factorización LL^t de la matriz C es\n",
      "C =\n",
      "[[ 2.          0.          0.          0.        ]\n",
      " [ 0.5         1.6583124   0.          0.        ]\n",
      " [-0.5        -0.45226702  2.13200716  0.        ]\n",
      " [ 0.          0.          0.93808315  1.76635217]]\n",
      "[[ 2.          0.5        -0.5         0.        ]\n",
      " [ 0.          1.6583124  -0.45226702  0.        ]\n",
      " [ 0.          0.          2.13200716  0.93808315]\n",
      " [ 0.          0.          0.          1.76635217]]\n",
      "La factorización LDL^t de la matriz C es\n",
      "C =\n",
      "[[ 1.          0.          0.          0.        ]\n",
      " [ 0.35355339  1.          0.          0.        ]\n",
      " [-0.35355339 -0.26429376  1.          0.        ]\n",
      " [ 0.          0.          0.67399867  1.        ]]\n",
      "[[2.         0.         0.         0.        ]\n",
      " [0.         1.6583124  0.         0.        ]\n",
      " [0.         0.         2.13200716 0.        ]\n",
      " [0.         0.         0.         1.76635217]]\n",
      "[[ 1.          0.35355339 -0.35355339  0.        ]\n",
      " [ 0.          1.         -0.26429376  0.        ]\n",
      " [ 0.          0.          1.          0.67399867]\n",
      " [ 0.          0.          0.          1.        ]]\n",
      "La factorización LL^t de la matriz D es\n",
      "D =\n",
      "[[ 2.44948974  0.          0.          0.        ]\n",
      " [ 0.81649658  1.82574186  0.          0.        ]\n",
      " [ 0.40824829  0.36514837  1.92353841  0.        ]\n",
      " [-0.40824829  0.18257419 -0.46788772  1.60657433]]\n",
      "[[ 2.44948974  0.81649658  0.40824829 -0.40824829]\n",
      " [ 0.          1.82574186  0.36514837  0.18257419]\n",
      " [ 0.          0.          1.92353841 -0.46788772]\n",
      " [ 0.          0.          0.          1.60657433]]\n",
      "La factorización LDL^t de la matriz D es\n",
      "D =\n",
      "[[ 1.          0.          0.          0.        ]\n",
      " [ 0.52169486  1.          0.          0.        ]\n",
      " [ 0.26084743  0.18377803  1.          0.        ]\n",
      " [-0.26084743  0.25565665 -0.3310561   1.        ]]\n",
      "[[2.44948974 0.         0.         0.        ]\n",
      " [0.         1.82574186 0.         0.        ]\n",
      " [0.         0.         1.92353841 0.        ]\n",
      " [0.         0.         0.         1.60657433]]\n",
      "[[ 1.          0.52169486  0.26084743 -0.26084743]\n",
      " [ 0.          1.          0.18377803  0.25565665]\n",
      " [ 0.          0.          1.         -0.3310561 ]\n",
      " [ 0.          0.          0.          1.        ]]\n"
     ]
    }
   ],
   "source": [
    "for i in range(len(NMatrices)):\n",
    "    m=NMatrices[i]\n",
    "    print(\"La factorización LL^t de la matriz \" +NMatrices[i]+ \" es\") \n",
    "    L=np.linalg.cholesky(Matrices[i])\n",
    "    print(NMatrices[i],\"=\")\n",
    "    print(L)\n",
    "    print(np.transpose(L))\n",
    "    print(\"La factorización LDL^t de la matriz \" +NMatrices[i]+ \" es\")\n",
    "    print(NMatrices[i],\"=\")\n",
    "    LDL(L)\n"
   ]
  }
 ],
 "metadata": {
  "kernelspec": {
   "display_name": "Python 3.10.8 64-bit",
   "language": "python",
   "name": "python3"
  },
  "language_info": {
   "codemirror_mode": {
    "name": "ipython",
    "version": 3
   },
   "file_extension": ".py",
   "mimetype": "text/x-python",
   "name": "python",
   "nbconvert_exporter": "python",
   "pygments_lexer": "ipython3",
   "version": "3.10.8"
  },
  "orig_nbformat": 4,
  "vscode": {
   "interpreter": {
    "hash": "2ce5abb18d857f9e49c088cba8187933cc9324131c494c3be04c4f561bc9060e"
   }
  }
 },
 "nbformat": 4,
 "nbformat_minor": 2
}
