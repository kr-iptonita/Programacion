{
 "cells": [
  {
   "cell_type": "code",
   "execution_count": 2,
   "metadata": {},
   "outputs": [],
   "source": [
    "import numpy as np"
   ]
  },
  {
   "cell_type": "code",
   "execution_count": 22,
   "metadata": {},
   "outputs": [],
   "source": [
    "n=int(input(\"De que tamaño es la matriz cuadrada\"))\n",
    "Matriz= np.zeros([n,n])\n",
    "L = np.zeros([n,n])\n",
    "U= np.zeros([n,n])"
   ]
  },
  {
   "cell_type": "code",
   "execution_count": 23,
   "metadata": {},
   "outputs": [],
   "source": [
    "for r in range(0,n):\n",
    "    for c in range(0,n):\n",
    "        Matriz[r,c]=(input(\"Valor de [\"+str(r+1)+\" , \"+str(c+1)+\"]\"))\n",
    "        Matriz[r,c]=float(Matriz[r,c])\n",
    "        U[r,c]=Matriz[r,c]"
   ]
  },
  {
   "cell_type": "code",
   "execution_count": 24,
   "metadata": {},
   "outputs": [],
   "source": [
    "for k in range(0,n):\n",
    "    for r in range (0,n):\n",
    "        if (k== r):\n",
    "            L[k,r]=1\n",
    "        if (k<r):\n",
    "            factor=(Matriz[r,k]/Matriz[k,k])\n",
    "            L[r,k]=factor\n",
    "            for c in range(0,n):\n",
    "                Matriz[r,c]=Matriz[r,c]-(factor*Matriz[k,c])\n",
    "                U[r,c]=Matriz[r,c]"
   ]
  },
  {
   "cell_type": "code",
   "execution_count": 25,
   "metadata": {},
   "outputs": [],
   "source": [
    "D=np.zeros([n,n])\n",
    "for r in range(0,n):\n",
    "    for c in range(0,n):\n",
    "        if (r==c):\n",
    "            D[r,c]=U[r,c]\n",
    "        else: pass"
   ]
  },
  {
   "cell_type": "code",
   "execution_count": null,
   "metadata": {},
   "outputs": [],
   "source": [
    "print(\"La factorización queda: \")\n",
    "print(\"L:\")\n",
    "print(L)\n",
    "print(\"D:\")\n",
    "print(D)\n",
    "print(\"L^T\")\n",
    "print(np.transpose(L))"
   ]
  },
  {
   "cell_type": "code",
   "execution_count": 9,
   "metadata": {},
   "outputs": [],
   "source": []
  }
 ],
 "metadata": {
  "kernelspec": {
   "display_name": "Python 3.10.8 64-bit",
   "language": "python",
   "name": "python3"
  },
  "language_info": {
   "codemirror_mode": {
    "name": "ipython",
    "version": 3
   },
   "file_extension": ".py",
   "mimetype": "text/x-python",
   "name": "python",
   "nbconvert_exporter": "python",
   "pygments_lexer": "ipython3",
   "version": "3.10.8"
  },
  "orig_nbformat": 4,
  "vscode": {
   "interpreter": {
    "hash": "2ce5abb18d857f9e49c088cba8187933cc9324131c494c3be04c4f561bc9060e"
   }
  }
 },
 "nbformat": 4,
 "nbformat_minor": 2
}
