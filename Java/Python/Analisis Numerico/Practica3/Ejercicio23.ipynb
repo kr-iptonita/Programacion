{
 "cells": [
  {
   "cell_type": "code",
   "execution_count": 2,
   "metadata": {},
   "outputs": [],
   "source": [
    "import numpy as np\n",
    "from numpy import linalg as LA"
   ]
  },
  {
   "cell_type": "code",
   "execution_count": 3,
   "metadata": {},
   "outputs": [],
   "source": [
    "def Householder_Q(A):\n",
    "  Ai=np.copy(A)\n",
    "  nRen,nCol = A.shape\n",
    "  q=list()\n",
    "  for i in range(nCol):\n",
    "    x=np.array(Ai[:,i])\n",
    "    e=0\n",
    "    for j in range(i):\n",
    "      x[j]=0\n",
    "      e+=1\n",
    "    u=x+(np.sign(Ai[i,i])*LA.norm(x)*np.eye(len(Ai))[:,e])\n",
    "    v=u/LA.norm(u)\n",
    "    vt=v.reshape((len(v),1))\n",
    "    H=np.eye(len(Ai))-2*np.matmul(vt,vt.T)\n",
    "    Ai=np.matmul(H,Ai)\n",
    "    q.append(H)\n",
    "  R=Ai\n",
    "  Q=q[0]\n",
    "  for k in range(1,len(q)):\n",
    "    Q=np.matmul(Q,q[k])\n",
    "  return Q, R"
   ]
  },
  {
   "cell_type": "code",
   "execution_count": 10,
   "metadata": {},
   "outputs": [],
   "source": [
    "matriz = np.array([[0.16, 0.10], [0.17, 0.11], [2.02, 1.29]])\n",
    "b=np.array([[0.26],[0.28],[3.31]])"
   ]
  },
  {
   "cell_type": "code",
   "execution_count": 117,
   "metadata": {},
   "outputs": [
    {
     "name": "stdout",
     "output_type": "stream",
     "text": [
      "[[-0.07868419 -0.08360195 -0.9933879 ]\n",
      " [ 0.83357047 -0.55206658 -0.01956433]\n",
      " [-0.54678064 -0.82959822  0.11312703]]\n",
      "[[-2.03344535e+00 -1.29853502e+00]\n",
      " [-2.12228712e-16 -2.60826889e-03]\n",
      " [ 1.36607858e-16 -7.06718282e-20]]\n",
      "[[-3.33198037e+00]\n",
      " [-2.60826889e-03]\n",
      " [ 1.66533454e-16]]\n"
     ]
    }
   ],
   "source": [
    "Qt=np.transpose(Householder_Q(matriz)[0])\n",
    "print(Qt)\n",
    "R=Householder_Q(matriz)[1]\n",
    "print(R)\n",
    "b_prima = np.matmul(Qt,b)\n",
    "print(b_prima)"
   ]
  },
  {
   "cell_type": "code",
   "execution_count": 54,
   "metadata": {},
   "outputs": [
    {
     "data": {
      "text/plain": [
       "-0.002608268885602783"
      ]
     },
     "execution_count": 54,
     "metadata": {},
     "output_type": "execute_result"
    }
   ],
   "source": [
    "R[1][]"
   ]
  },
  {
   "cell_type": "code",
   "execution_count": 65,
   "metadata": {},
   "outputs": [],
   "source": [
    "def sustitucion(R , b):\n",
    "    R.transpose()\n",
    "    b.transpose()\n",
    "    n=R.shape[1]\n",
    "    x=np.zeros(n-1)\n",
    "    for i in range(n-1,0-1,-1 ):\n",
    "        s=np.dot(R[i][i+1:], x[i+1:])\n",
    "        x[i]=(b[i]-s)/R[i,i]\n",
    "    return x"
   ]
  },
  {
   "cell_type": "code",
   "execution_count": 119,
   "metadata": {},
   "outputs": [],
   "source": [
    "def sustitucion(R , b):\n",
    "    n=R.shape[1]\n",
    "    x = [0]*n\n",
    "    for i in range(n-1,-1,-1):\n",
    "        for j in range(i+1,n): \n",
    "            b[i] = b[i] - R[i,j]*x[j]\n",
    "        x[i] = b[i]/R[i,i]\n",
    "          \n",
    "    return x"
   ]
  },
  {
   "cell_type": "code",
   "execution_count": 120,
   "metadata": {},
   "outputs": [
    {
     "data": {
      "text/plain": [
       "[array([0.3614114]), array([1.])]"
      ]
     },
     "execution_count": 120,
     "metadata": {},
     "output_type": "execute_result"
    }
   ],
   "source": [
    "sustitucion(R,b_prima)"
   ]
  }
 ],
 "metadata": {
  "kernelspec": {
   "display_name": "Python 3.10.8 64-bit",
   "language": "python",
   "name": "python3"
  },
  "language_info": {
   "codemirror_mode": {
    "name": "ipython",
    "version": 3
   },
   "file_extension": ".py",
   "mimetype": "text/x-python",
   "name": "python",
   "nbconvert_exporter": "python",
   "pygments_lexer": "ipython3",
   "version": "3.10.8"
  },
  "orig_nbformat": 4,
  "vscode": {
   "interpreter": {
    "hash": "2ce5abb18d857f9e49c088cba8187933cc9324131c494c3be04c4f561bc9060e"
   }
  }
 },
 "nbformat": 4,
 "nbformat_minor": 2
}
