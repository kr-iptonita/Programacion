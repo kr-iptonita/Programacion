{
 "cells": [
  {
   "cell_type": "code",
   "execution_count": 2,
   "metadata": {},
   "outputs": [],
   "source": [
    "import numpy as np\n",
    "from numpy import linalg as LA"
   ]
  },
  {
   "cell_type": "code",
   "execution_count": 3,
   "metadata": {},
   "outputs": [],
   "source": [
    "def Householder(A):\n",
    "    Ai = np.copy(A)\n",
    "    nRen, nCol = A.shape\n",
    "    q = list()\n",
    "    for i in range(nCol):\n",
    "        x = np.array(Ai[:, i])\n",
    "        e = 0\n",
    "        for j in range(i):\n",
    "            x[j] = 0\n",
    "            e += 1\n",
    "        u = x+(np.sign(Ai[i, i])*LA.norm(x)*np.eye(len(Ai))[:, e])\n",
    "        v = u/LA.norm(u)\n",
    "        vt = v.reshape((len(v), 1))\n",
    "        H = np.eye(len(Ai))-2*np.matmul(vt, vt.T)\n",
    "        Ai = np.matmul(H, Ai)\n",
    "        q.append(H)\n",
    "    R = Ai\n",
    "    Q = q[0]\n",
    "    for k in range(1, len(q)):\n",
    "        Q = np.matmul(Q, q[k])\n",
    "    return Q, R"
   ]
  },
  {
   "cell_type": "code",
   "execution_count": 201,
   "metadata": {},
   "outputs": [],
   "source": [
    "def GramSchmidt(A):\n",
    "  \"\"\"\n",
    "    GramSchmidt: regresa Q R de la factorización por método \n",
    "    GramSchmidt.\n",
    "    \n",
    "    Parametros\n",
    "    ------------\n",
    "    A -numpy array- matriz\n",
    "\n",
    "    Salida\n",
    "    ------------\n",
    "    Q -numpy array- matriz ortogonal\n",
    "    R matriz diagonal\n",
    "  \"\"\"\n",
    "  Q = np.copy(A); \n",
    "  nRen,nCol = A.shape \n",
    "  R = np.zeros((nCol,nCol))\n",
    "\n",
    "  for i in range(0,nCol): \n",
    "    v = A[:,i] #Asignamos v la columna i de A\n",
    "    for j in range(0,i):\n",
    "      R[j,i] = np.dot(Q[:,j],A[:,i])\n",
    "      v = v - R[j,i]*Q[:,j] #Actualizamos a v\n",
    "    R[i,i] = LA.norm(v) #Elementos de la diagonal \n",
    "    Q[:,i] = v/R[i,i] \n",
    "  return Q , R"
   ]
  },
  {
   "cell_type": "code",
   "execution_count": 197,
   "metadata": {},
   "outputs": [],
   "source": [
    "def givens(A):\n",
    "    n, m = A.shape\n",
    "    Q = np.eye(n)\n",
    "    R = np.copy(A)\n",
    "    filas, columnas = np.tril_indices(n, -1, m)\n",
    "    for (fila, col) in zip(filas, columnas):\n",
    "        if R[fila, col] != 0:\n",
    "            r = np.sqrt(R[col, col]**2 + R[fila, col]**2)\n",
    "            c, s = R[col, col]/r, -R[fila, col]/r\n",
    "            R[col], R[fila] = R[col]*c + R[fila]*(-s), R[col]*s + R[fila]*c\n",
    "            Q[:, col], Q[:, fila] = Q[:, col]*c + Q[:, fila]*(-s), Q[:, col]*s + Q[:, fila]*c\n",
    "\n",
    "    return Q[:, :m], R[:m]"
   ]
  },
  {
   "cell_type": "code",
   "execution_count": 4,
   "metadata": {},
   "outputs": [],
   "source": [
    "def EC_normales(A, b):\n",
    "    At=np.transpose(A)\n",
    "    AtA=np.matmul(At, A)\n",
    "    Atb=np.matmul(At, b)\n",
    "    return AtA, Atb"
   ]
  },
  {
   "cell_type": "code",
   "execution_count": 134,
   "metadata": {},
   "outputs": [],
   "source": [
    "def sustitucion(A, b):\n",
    "    n = A.shape[1]\n",
    "    x = [0]*n\n",
    "    for i in range(n-1, -1, -1):\n",
    "        for j in range(i+1, n):\n",
    "            b[i] = b[i] - A[i, j]*x[j]\n",
    "        x[i] = b[i]/A[i, i]\n",
    "\n",
    "    return x"
   ]
  },
  {
   "cell_type": "code",
   "execution_count": 135,
   "metadata": {},
   "outputs": [],
   "source": [
    "def sustitucion_QR(Q, R, b):\n",
    "    b_prima=np.matmul(np.transpose(Q),b)\n",
    "    return sustitucion(R,b_prima)"
   ]
  },
  {
   "cell_type": "code",
   "execution_count": 217,
   "metadata": {},
   "outputs": [
    {
     "name": "stdout",
     "output_type": "stream",
     "text": [
      "1.4901161193847656e-08\n",
      "[[1.00000000e+00 1.00000000e+00 1.00000000e+00]\n",
      " [1.49011612e-08 0.00000000e+00 0.00000000e+00]\n",
      " [1.49011612e-08 0.00000000e+00 0.00000000e+00]\n",
      " [1.49011612e-08 0.00000000e+00 0.00000000e+00]]\n"
     ]
    }
   ],
   "source": [
    "e=np.sqrt(np.finfo(float).eps)\n",
    "e_1=np.finfo(float).eps\n",
    "e_2=2*(np.finfo(float).eps)\n",
    "e_3=4*(np.finfo(float).eps)\n",
    "e_4=(2**16)*(np.finfo(float).eps)\n",
    "e_5=(2**32)*(np.finfo(float).eps)\n",
    "print(e)\n",
    "A=np.array([[1,1,1],[e,0,0],[e,0,0],[e,0,0]])\n",
    "A_1=np.array([[1,1,1],[e_1,0,0],[e_1,0,0],[e_1,0,0]])\n",
    "A_2=np.array([[1,1,1],[e_2,0,0],[e_2,0,0],[e_2,0,0]])\n",
    "A_3=np.array([[1,1,1],[e_3,0,0],[e_3,0,0],[e_3,0,0]])\n",
    "A_4=np.array([[1,1,1],[e_4,0,0],[e_4,0,0],[e_4,0,0]])\n",
    "A_5=np.array([[1,1,1],[e_5,0,0],[e_5,0,0],[e_5,0,0]])\n",
    "b=np.array([[1],[0],[0],[0]])\n",
    "print(A)"
   ]
  },
  {
   "cell_type": "code",
   "execution_count": 216,
   "metadata": {},
   "outputs": [
    {
     "name": "stdout",
     "output_type": "stream",
     "text": [
      "[array([0.]), array([0.]), array([1.])]\n",
      "[array([0.]), array([0.]), array([1.])]\n",
      "[array([0.]), array([0.]), array([1.])]\n",
      "[array([0.]), array([0.]), array([1.])]\n",
      "[array([0.]), array([0.]), array([1.])]\n",
      "[array([0.]), array([0.]), array([1.])]\n"
     ]
    }
   ],
   "source": [
    "print(sustitucion(EC_normales(A, b)[0], EC_normales(A, b)[1]))\n",
    "print(sustitucion(EC_normales(A_1, b)[0], EC_normales(A_1, b)[1]))\n",
    "print(sustitucion(EC_normales(A_2, b)[0], EC_normales(A_2, b)[1]))\n",
    "print(sustitucion(EC_normales(A_3, b)[0], EC_normales(A_3, b)[1]))\n",
    "print(sustitucion(EC_normales(A_4, b)[0], EC_normales(A_4, b)[1]))\n",
    "print(sustitucion(EC_normales(A_5, b)[0], EC_normales(A_5, b)[1]))"
   ]
  },
  {
   "cell_type": "code",
   "execution_count": null,
   "metadata": {},
   "outputs": [],
   "source": [
    "print(sustitucion_QR(Householder(A_1)[0], Householder(A_1)[1], b))\n",
    "print(sustitucion_QR(Householder(A_2)[0], Householder(A_2)[1], b))\n",
    "print(sustitucion_QR(Householder(A_3)[0], Householder(A_3)[1], b))\n",
    "print(sustitucion_QR(Householder(A_4)[0], Householder(A_4)[1], b))\n",
    "print(sustitucion_QR(Householder(A_5)[0], Householder(A_5)[1], b))"
   ]
  },
  {
   "cell_type": "code",
   "execution_count": 218,
   "metadata": {},
   "outputs": [
    {
     "name": "stdout",
     "output_type": "stream",
     "text": [
      "[array([0.]), array([0.]), array([1.])]\n",
      "[array([nan]), array([nan]), array([nan])]\n",
      "[array([nan]), array([nan]), array([nan])]\n",
      "[array([nan]), array([nan]), array([nan])]\n",
      "[array([nan]), array([nan]), array([nan])]\n"
     ]
    },
    {
     "name": "stderr",
     "output_type": "stream",
     "text": [
      "C:\\Users\\KR\\AppData\\Local\\Temp\\ipykernel_7300\\2474437368.py:7: RuntimeWarning: invalid value encountered in divide\n",
      "  x[i] = b[i]/A[i, i]\n"
     ]
    }
   ],
   "source": [
    "print(sustitucion_QR(givens(A)[0], givens(A)[1], b))\n",
    "print(sustitucion_QR(givens(A_2)[0], givens(A_2)[1], b))\n",
    "print(sustitucion_QR(givens(A_3)[0], givens(A_3)[1], b))\n",
    "print(sustitucion_QR(givens(A_4)[0], givens(A_4)[1], b))\n",
    "print(sustitucion_QR(givens(A_5)[0], givens(A_5)[1], b))"
   ]
  },
  {
   "cell_type": "code",
   "execution_count": 207,
   "metadata": {},
   "outputs": [
    {
     "name": "stdout",
     "output_type": "stream",
     "text": [
      "[array([-0.33333333]), array([-0.66666667]), array([2.])]\n",
      "[array([1.]), array([0.]), array([0.])]\n",
      "[array([1.]), array([0.]), array([0.])]\n",
      "[array([1.]), array([0.]), array([0.])]\n",
      "[array([-0.99993896]), array([3.66503876e+11]), array([-3.66503876e+11])]\n"
     ]
    }
   ],
   "source": [
    "print(sustitucion_QR(GramSchmidt(A)[0], GramSchmidt(A)[1], b))\n",
    "print(sustitucion_QR(GramSchmidt(A_2)[0], GramSchmidt(A_2)[1], b))\n",
    "print(sustitucion_QR(GramSchmidt(A_3)[0], GramSchmidt(A_3)[1], b))\n",
    "print(sustitucion_QR(GramSchmidt(A_4)[0], GramSchmidt(A_4)[1], b))\n",
    "print(sustitucion_QR(GramSchmidt(A_5)[0], GramSchmidt(A_5)[1], b))"
   ]
  }
 ],
 "metadata": {
  "kernelspec": {
   "display_name": "Python 3.10.8 64-bit",
   "language": "python",
   "name": "python3"
  },
  "language_info": {
   "codemirror_mode": {
    "name": "ipython",
    "version": 3
   },
   "file_extension": ".py",
   "mimetype": "text/x-python",
   "name": "python",
   "nbconvert_exporter": "python",
   "pygments_lexer": "ipython3",
   "version": "3.10.8"
  },
  "orig_nbformat": 4,
  "vscode": {
   "interpreter": {
    "hash": "2ce5abb18d857f9e49c088cba8187933cc9324131c494c3be04c4f561bc9060e"
   }
  }
 },
 "nbformat": 4,
 "nbformat_minor": 2
}
