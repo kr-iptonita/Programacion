{
 "cells": [
  {
   "cell_type": "code",
   "execution_count": null,
   "metadata": {},
   "outputs": [],
   "source": [
    "import time\n",
    "import numpy as np\n",
    "import matplotlib.pyplot as plt"
   ]
  },
  {
   "cell_type": "code",
   "execution_count": null,
   "metadata": {},
   "outputs": [],
   "source": []
  },
  {
   "cell_type": "code",
   "execution_count": null,
   "metadata": {},
   "outputs": [],
   "source": [
    "def pares(x):\n",
    "    if x % 2 == 0:\n",
    "        return True\n",
    "    else:\n",
    "        return False\n",
    "\n",
    "def entero_lista(x):\n",
    "    for i in range(len(x)):\n",
    "        x[i] = int(x[i])\n",
    "\n",
    "datos=[]\n",
    "datos_brutos=[]\n",
    "\n",
    "lista=input(\"Escriba uno a uno los elementos a ordenar, use enter para añadir otro elemento y escriba 'y' para terminar\")\n",
    "while lista !='y':\n",
    "    datos_brutos.append(lista)\n",
    "    lista=input(\"Escriba uno a uno los elementos a ordenar, use enter para añadir otro elemento y escriba 'y' para terminar\")\n",
    "\n",
    "for i in range(len(datos_brutos)):\n",
    "    dato=datos_brutos[i]\n",
    "    if dato.isnumeric()==True:\n",
    "        datos.append(datos_brutos[i])\n",
    "    else:\n",
    "        pass\n",
    "    \n",
    "datos_ft=tuple(map(float,datos))\n",
    "datos_float= list(datos_ft)\n",
    "datos=list(datos)\n",
    "entero_lista(datos)"
   ]
  },
  {
   "cell_type": "code",
   "execution_count": null,
   "metadata": {},
   "outputs": [],
   "source": [
    "#descomentar el codigo para obtener una lista aleatoria de numeros enteros\n",
    "\"\"\"\n",
    "datos=[]\n",
    "for i in range(50000):\n",
    "    datos.append(np.random.randint(1,30000))\n",
    "\"\"\"\n",
    "\n",
    "inicio=time.time()\n",
    "a=0\n",
    "for i in range(len(datos)):\n",
    "    if pares(datos[i])== True:\n",
    "        a=a+1\n",
    "    else:\n",
    "        pass\n",
    "fin=time.time()-inicio\n",
    "print(\"Escribió %i pares en sus entradas\" %a)\n",
    "print(\"el timepo de ejecución fué de \", fin, \" microsegundos\")"
   ]
  },
  {
   "cell_type": "code",
   "execution_count": null,
   "metadata": {},
   "outputs": [],
   "source": [
    "# Graficación\n",
    "n = len(datos)\n",
    "x = np.linspace(0, n, n)\n",
    "y = np.linspace(0, fin, n)\n",
    "plt.plot(x, y)\n",
    "plt.title(\"tiempos de ejecución en microsegundos para cada algoritmo en una lista de tamaño n=%i\"%n)\n",
    "plt.xlabel(\"algoritmos\")\n",
    "plt.ylabel(\"microsegundos\")\n",
    "plt.show()"
   ]
  }
 ],
 "metadata": {
  "kernelspec": {
   "display_name": "Python 3.10.5 64-bit",
   "language": "python",
   "name": "python3"
  },
  "language_info": {
   "codemirror_mode": {
    "name": "ipython",
    "version": 3
   },
   "file_extension": ".py",
   "mimetype": "text/x-python",
   "name": "python",
   "nbconvert_exporter": "python",
   "pygments_lexer": "ipython3",
   "version": "3.10.5"
  },
  "orig_nbformat": 4,
  "vscode": {
   "interpreter": {
    "hash": "2ce5abb18d857f9e49c088cba8187933cc9324131c494c3be04c4f561bc9060e"
   }
  }
 },
 "nbformat": 4,
 "nbformat_minor": 2
}
