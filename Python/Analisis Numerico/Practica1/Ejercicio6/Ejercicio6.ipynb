{
 "cells": [
  {
   "cell_type": "code",
   "execution_count": null,
   "metadata": {},
   "outputs": [],
   "source": [
    "import numpy as np"
   ]
  },
  {
   "cell_type": "code",
   "execution_count": null,
   "metadata": {},
   "outputs": [],
   "source": [
    "def pares(x):\n",
    "    if x % 2 == 0:\n",
    "        return True\n",
    "    else:\n",
    "        return False\n",
    "def funcion(x):\n",
    "    for i in range(len(x)):\n",
    "        x[i]=(1)/(x[i])"
   ]
  },
  {
   "cell_type": "code",
   "execution_count": null,
   "metadata": {},
   "outputs": [],
   "source": [
    "dato=input(\"Ingrese un valor entero no 0\")\n",
    "signo=[-1,1]\n",
    "try:\n",
    "    dato=int(dato)\n",
    "    valido=True\n",
    "except ValueError:\n",
    "    valido=False\n",
    "\n",
    "if valido==True:\n",
    "    if dato==0:\n",
    "        print(\"No puedes dividir entre 0\")\n",
    "    elif dato < 0:\n",
    "        n=list(np.arange(1,dato+1,signo[0]))\n",
    "    else:\n",
    "        n=list(np.arange(1,dato+1,signo[1]))\n",
    "else:\n",
    "    print(\"Error: dato incorrecto\")\n"
   ]
  },
  {
   "cell_type": "code",
   "execution_count": null,
   "metadata": {},
   "outputs": [],
   "source": [
    "for i in range(len(n)):\n",
    "    if pares(n[i]) == True:\n",
    "        n[i] = (-1)*(n[i])\n",
    "    else:\n",
    "        pass\n",
    "n_c=n[:]\n",
    "print(n)\n",
    "fun=funcion(n_c)\n",
    "print(n_c)\n",
    "suma=sum(n_c)\n",
    "print(suma)\n"
   ]
  }
 ],
 "metadata": {
  "kernelspec": {
   "display_name": "Python 3.10.5 64-bit",
   "language": "python",
   "name": "python3"
  },
  "language_info": {
   "codemirror_mode": {
    "name": "ipython",
    "version": 3
   },
   "file_extension": ".py",
   "mimetype": "text/x-python",
   "name": "python",
   "nbconvert_exporter": "python",
   "pygments_lexer": "ipython3",
   "version": "3.10.5"
  },
  "orig_nbformat": 4,
  "vscode": {
   "interpreter": {
    "hash": "2ce5abb18d857f9e49c088cba8187933cc9324131c494c3be04c4f561bc9060e"
   }
  }
 },
 "nbformat": 4,
 "nbformat_minor": 2
}
