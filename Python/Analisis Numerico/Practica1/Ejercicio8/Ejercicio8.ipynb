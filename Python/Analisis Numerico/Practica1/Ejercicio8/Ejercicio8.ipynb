{
 "cells": [
  {
   "cell_type": "code",
   "execution_count": 18,
   "metadata": {},
   "outputs": [],
   "source": [
    "import numpy as np"
   ]
  },
  {
   "cell_type": "code",
   "execution_count": 19,
   "metadata": {},
   "outputs": [],
   "source": [
    "Vector = []\n",
    "for i in range(100000):\n",
    "    Vector.append(np.random.randint(1,10000))"
   ]
  },
  {
   "cell_type": "markdown",
   "metadata": {},
   "source": [
    "Inciso 1"
   ]
  },
  {
   "cell_type": "code",
   "execution_count": 20,
   "metadata": {},
   "outputs": [],
   "source": [
    "def lleno_vacio(x):\n",
    "    if len(x)>0:\n",
    "        return True\n",
    "    else:\n",
    "        False"
   ]
  },
  {
   "cell_type": "markdown",
   "metadata": {},
   "source": [
    "Inciso 2"
   ]
  },
  {
   "cell_type": "code",
   "execution_count": 21,
   "metadata": {},
   "outputs": [],
   "source": [
    "def borrado(x):\n",
    "    print(\"Si desea borrar por indice escriba 1\")\n",
    "    print(\"Si desea borrar por valor escriba 2\")\n",
    "    try:\n",
    "        v=int(input(\"Escriba el número de la accion que desea hacer\"))\n",
    "        d=len(x)-1\n",
    "        if v==1:\n",
    "            Vector.pop(int(input(\"Escriba el indice que desea eliminar (debe estar entre 0 a %d) \"%d)))\n",
    "        elif v==2:\n",
    "            print(\"Este programa solo funciona para numeros float, en caso de escribir un valor int este se converirá en float\")\n",
    "            Vector.remove(float(input(\"Escriba el valor que desea eliminar en caso de no existir se omitirá\")))\n",
    "        else: print(\" %i no es una accion dada para el programa\"%v)\n",
    "    \n",
    "    except ValueError:\n",
    "        pass"
   ]
  },
  {
   "cell_type": "code",
   "execution_count": null,
   "metadata": {},
   "outputs": [],
   "source": []
  },
  {
   "cell_type": "markdown",
   "metadata": {},
   "source": [
    "Inciso 3"
   ]
  },
  {
   "cell_type": "markdown",
   "metadata": {},
   "source": [
    "Inciso 4"
   ]
  },
  {
   "cell_type": "code",
   "execution_count": 35,
   "metadata": {},
   "outputs": [],
   "source": [
    "def busqueda(x):\n",
    "    dato=int(input(\"escriba el dato a buscar en el vector\"))\n",
    "    cantidad=0\n",
    "    for i in range(len(x)):\n",
    "        if x[i]==dato:\n",
    "            cantidad=cantidad+1\n",
    "        else: pass\n",
    "    print(\"el elemento aparece %i veces en el vector\" %cantidad)"
   ]
  },
  {
   "cell_type": "code",
   "execution_count": 23,
   "metadata": {},
   "outputs": [],
   "source": [
    "def media_maximo(x):\n",
    "    return [max(x), np.mean(x) ]"
   ]
  },
  {
   "cell_type": "code",
   "execution_count": 37,
   "metadata": {},
   "outputs": [
    {
     "name": "stdout",
     "output_type": "stream",
     "text": [
      "El siguiente programa trabaja vectores por favor elija una opción:\n",
      "Añadir un elemento al vector 1\n",
      "Eliminar un elemento del vector 2\n",
      "Listar el contenido del vecto 3\n",
      "Contar las apariciones de un valor en el vector 4\n",
      "Calcular la media y maximo del vector 5\n",
      "Salir 0\n"
     ]
    }
   ],
   "source": [
    "print(\"El siguiente programa trabaja vectores por favor elija una opción:\")\n",
    "print(\"Añadir un elemento al vector 1\")\n",
    "print(\"Eliminar un elemento del vector 2\")\n",
    "print(\"Listar el contenido del vecto 3\")\n",
    "print(\"Contar las apariciones de un valor en el vector 4\")\n",
    "print(\"Calcular la media y maximo del vector 5\")\n",
    "print(\"Salir 0\")\n",
    "try:\n",
    "    a=int(input(\"Escriba un valor entre 0 a 5 \"))\n",
    "    if a==0:\n",
    "        exit()\n",
    "    elif a==1:\n",
    "        if lleno_vacio(Vector)==True:\n",
    "            Vector.append(input(\"Ingrese un valor a añadir al vector\"))\n",
    "        else: print(\"El vector está vacio\"); exit()\n",
    "        \n",
    "        print(Vector)\n",
    "    elif a==2:\n",
    "        if lleno_vacio(Vector) == True:\n",
    "            borrado(Vector)\n",
    "            print(\"El vector resultante es:\")\n",
    "            print(Vector)\n",
    "        else:   print(\"El vector está vacio\"); exit()\n",
    "    elif a==3:\n",
    "        print(Vector)\n",
    "    elif a==4:\n",
    "        busqueda(Vector)\n",
    "    elif a==5:\n",
    "        media_maximo(Vector)\n",
    "        print(\"El maximo es: \", media_maximo(Vector)[0] )\n",
    "        print(\"La media es: \", media_maximo(Vector)[1])\n",
    "except ValueError:\n",
    "    exit()"
   ]
  }
 ],
 "metadata": {
  "kernelspec": {
   "display_name": "Python 3.10.5 64-bit",
   "language": "python",
   "name": "python3"
  },
  "language_info": {
   "codemirror_mode": {
    "name": "ipython",
    "version": 3
   },
   "file_extension": ".py",
   "mimetype": "text/x-python",
   "name": "python",
   "nbconvert_exporter": "python",
   "pygments_lexer": "ipython3",
   "version": "3.10.5"
  },
  "orig_nbformat": 4,
  "vscode": {
   "interpreter": {
    "hash": "2ce5abb18d857f9e49c088cba8187933cc9324131c494c3be04c4f561bc9060e"
   }
  }
 },
 "nbformat": 4,
 "nbformat_minor": 2
}
