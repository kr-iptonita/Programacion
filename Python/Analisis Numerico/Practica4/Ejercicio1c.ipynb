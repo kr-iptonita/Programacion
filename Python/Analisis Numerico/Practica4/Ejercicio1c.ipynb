{
 "cells": [
  {
   "cell_type": "code",
   "execution_count": 1,
   "metadata": {},
   "outputs": [],
   "source": [
    "import numpy as np\n",
    "import math"
   ]
  },
  {
   "cell_type": "code",
   "execution_count": 2,
   "metadata": {},
   "outputs": [
    {
     "data": {
      "text/plain": [
       "'\\ndef f(x):\\n    return (math.e**(x)+2**(-x)+2*math.cos(x)-6)\\n'"
      ]
     },
     "execution_count": 2,
     "metadata": {},
     "output_type": "execute_result"
    }
   ],
   "source": [
    "\"\"\"\n",
    "def f(x):\n",
    "    return (math.e**(x)+2**(-x)+2*math.cos(x)-6)\n",
    "\"\"\"\n"
   ]
  },
  {
   "cell_type": "code",
   "execution_count": 16,
   "metadata": {},
   "outputs": [],
   "source": [
    "def newton(funcion, tolerancia, x_0, n):\n",
    "    def f(x):\n",
    "        f=eval(funcion)\n",
    "        return f\n",
    "    def df(x, tolerancia): \n",
    "        return (f(x+tolerancia)-f(x))/tolerancia\n",
    "    x_k_1=x_0\n",
    "\n",
    "    \n",
    "    x_k=x_0\n",
    "    x_k1=x_k-((f(x_k))/(df(x_k, tolerancia)))\n",
    "    while abs(x_k-x_k1)>tolerancia:\n",
    "        if df(x_k, tolerancia)==0: \n",
    "            pass\n",
    "        else:\n",
    "            x_k=x_k1-((f(x_k1))/(df(x_k, tolerancia)))\n",
    "        \n",
    "        x_k=x_k1\n",
    "    \n",
    "    return x_k_1"
   ]
  },
  {
   "cell_type": "code",
   "execution_count": null,
   "metadata": {},
   "outputs": [],
   "source": []
  },
  {
   "cell_type": "code",
   "execution_count": 21,
   "metadata": {},
   "outputs": [],
   "source": [
    "def newton(funcion, tolerancia, x_0, n):\n",
    "    def f(x):\n",
    "        f=eval(funcion)\n",
    "        return f\n",
    "    def df(x, tolerancia): \n",
    "        return (f(x+tolerancia)-f(x))/tolerancia\n",
    "    x_k_1=x_0\n",
    "\n",
    "    for i in range(1, n):\n",
    "        xk=x_k_1-(f(x_k_1)/df(x_k_1, tolerancia))\n",
    "        x_k_1=xk    \n",
    "    \n",
    "    return x_k_1"
   ]
  },
  {
   "cell_type": "code",
   "execution_count": 13,
   "metadata": {},
   "outputs": [],
   "source": [
    "x_0=1\n",
    "tolerancia=0.0001\n",
    "iteraciones = 5\n",
    "funcion=\"math.e**(x)+2**(-x)+2*math.cos(x)-6\""
   ]
  },
  {
   "cell_type": "code",
   "execution_count": 3,
   "metadata": {},
   "outputs": [
    {
     "data": {
      "text/plain": [
       "array([0., 0.])"
      ]
     },
     "execution_count": 3,
     "metadata": {},
     "output_type": "execute_result"
    }
   ],
   "source": [
    "np.zeros([2])"
   ]
  },
  {
   "cell_type": "code",
   "execution_count": 24,
   "metadata": {},
   "outputs": [
    {
     "data": {
      "text/plain": [
       "1.9142494285465237"
      ]
     },
     "execution_count": 24,
     "metadata": {},
     "output_type": "execute_result"
    }
   ],
   "source": [
    "newton(funcion, tolerancia, x_0, iteraciones)"
   ]
  }
 ],
 "metadata": {
  "kernelspec": {
   "display_name": "Python 3.10.8 64-bit",
   "language": "python",
   "name": "python3"
  },
  "language_info": {
   "codemirror_mode": {
    "name": "ipython",
    "version": 3
   },
   "file_extension": ".py",
   "mimetype": "text/x-python",
   "name": "python",
   "nbconvert_exporter": "python",
   "pygments_lexer": "ipython3",
   "version": "3.10.8"
  },
  "orig_nbformat": 4,
  "vscode": {
   "interpreter": {
    "hash": "e4d1ea8a2fde412e307c02a3abf60769838947610825cd0a957642a07236c738"
   }
  }
 },
 "nbformat": 4,
 "nbformat_minor": 2
}
