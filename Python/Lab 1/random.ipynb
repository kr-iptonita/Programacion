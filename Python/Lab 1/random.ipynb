{
 "cells": [
  {
   "cell_type": "code",
   "execution_count": 1,
   "metadata": {},
   "outputs": [],
   "source": [
    "import numpy as np\n",
    "import matplotlib.pyplot as plt\n",
    "import matplotlib.cm as cm\n",
    "import pandas as pd\n",
    "from mpl_toolkits.mplot3d import axes3d"
   ]
  },
  {
   "cell_type": "code",
   "execution_count": 21,
   "metadata": {},
   "outputs": [],
   "source": [
    "df = pd.read_csv(\"xyz.csv\")\n",
    "\n",
    "x= df['Longitud']\n",
    "y= df['Latitud']\n",
    "z= df['Intensidad']\n",
    "\n",
    "X=[]\n",
    "Y=[]\n",
    "Z=[]\n",
    "\n",
    "i=0\n",
    "for i in range(np.size(x)):\n",
    "    X.append(x[i])\n",
    "    Y.append(y[i])\n",
    "    Z.append(z[i])"
   ]
  },
  {
   "cell_type": "code",
   "execution_count": 20,
   "metadata": {},
   "outputs": [
    {
     "name": "stdout",
     "output_type": "stream",
     "text": [
      "4\n",
      "15.1 -94.34 19\n"
     ]
    },
    {
     "data": {
      "text/html": [
       "<div>\n",
       "<style scoped>\n",
       "    .dataframe tbody tr th:only-of-type {\n",
       "        vertical-align: middle;\n",
       "    }\n",
       "\n",
       "    .dataframe tbody tr th {\n",
       "        vertical-align: top;\n",
       "    }\n",
       "\n",
       "    .dataframe thead th {\n",
       "        text-align: right;\n",
       "    }\n",
       "</style>\n",
       "<table border=\"1\" class=\"dataframe\">\n",
       "  <thead>\n",
       "    <tr style=\"text-align: right;\">\n",
       "      <th></th>\n",
       "      <th>Longitud</th>\n",
       "      <th>Latitud</th>\n",
       "      <th>Intensidad</th>\n",
       "    </tr>\n",
       "  </thead>\n",
       "  <tbody>\n",
       "    <tr>\n",
       "      <th>0</th>\n",
       "      <td>-94.61</td>\n",
       "      <td>15.14</td>\n",
       "      <td>23</td>\n",
       "    </tr>\n",
       "    <tr>\n",
       "      <th>1</th>\n",
       "      <td>-94.40</td>\n",
       "      <td>15.20</td>\n",
       "      <td>16</td>\n",
       "    </tr>\n",
       "    <tr>\n",
       "      <th>2</th>\n",
       "      <td>-94.66</td>\n",
       "      <td>15.37</td>\n",
       "      <td>18</td>\n",
       "    </tr>\n",
       "    <tr>\n",
       "      <th>3</th>\n",
       "      <td>-94.29</td>\n",
       "      <td>14.94</td>\n",
       "      <td>16</td>\n",
       "    </tr>\n",
       "    <tr>\n",
       "      <th>4</th>\n",
       "      <td>-94.34</td>\n",
       "      <td>15.10</td>\n",
       "      <td>19</td>\n",
       "    </tr>\n",
       "    <tr>\n",
       "      <th>...</th>\n",
       "      <td>...</td>\n",
       "      <td>...</td>\n",
       "      <td>...</td>\n",
       "    </tr>\n",
       "    <tr>\n",
       "      <th>945</th>\n",
       "      <td>-94.65</td>\n",
       "      <td>15.29</td>\n",
       "      <td>29</td>\n",
       "    </tr>\n",
       "    <tr>\n",
       "      <th>946</th>\n",
       "      <td>-94.64</td>\n",
       "      <td>15.24</td>\n",
       "      <td>13</td>\n",
       "    </tr>\n",
       "    <tr>\n",
       "      <th>947</th>\n",
       "      <td>-94.85</td>\n",
       "      <td>15.62</td>\n",
       "      <td>32</td>\n",
       "    </tr>\n",
       "    <tr>\n",
       "      <th>948</th>\n",
       "      <td>-94.11</td>\n",
       "      <td>14.85</td>\n",
       "      <td>58</td>\n",
       "    </tr>\n",
       "    <tr>\n",
       "      <th>949</th>\n",
       "      <td>-94.14</td>\n",
       "      <td>14.86</td>\n",
       "      <td>31</td>\n",
       "    </tr>\n",
       "  </tbody>\n",
       "</table>\n",
       "<p>950 rows × 3 columns</p>\n",
       "</div>"
      ],
      "text/plain": [
       "     Longitud  Latitud  Intensidad\n",
       "0      -94.61    15.14          23\n",
       "1      -94.40    15.20          16\n",
       "2      -94.66    15.37          18\n",
       "3      -94.29    14.94          16\n",
       "4      -94.34    15.10          19\n",
       "..        ...      ...         ...\n",
       "945    -94.65    15.29          29\n",
       "946    -94.64    15.24          13\n",
       "947    -94.85    15.62          32\n",
       "948    -94.11    14.85          58\n",
       "949    -94.14    14.86          31\n",
       "\n",
       "[950 rows x 3 columns]"
      ]
     },
     "execution_count": 20,
     "metadata": {},
     "output_type": "execute_result"
    }
   ],
   "source": [
    "i=np.random.choice(np.size(X))\n",
    "i=4\n",
    "print(i)\n",
    "print(x[i], y[i],z[i])\n",
    "df"
   ]
  },
  {
   "cell_type": "code",
   "execution_count": null,
   "metadata": {},
   "outputs": [],
   "source": [
    "for i in range(np.size(x)):\n",
    "    X.append(x[i])\n",
    "    Y.append(x[i])\n",
    "    Z.append(x[i])"
   ]
  },
  {
   "cell_type": "code",
   "execution_count": null,
   "metadata": {},
   "outputs": [],
   "source": [
    "print('Latitud')\n",
    "print(X)\n",
    "print('Longitud')\n",
    "print(Y)\n",
    "print('Intensidad')\n",
    "print(Z)"
   ]
  },
  {
   "cell_type": "code",
   "execution_count": null,
   "metadata": {},
   "outputs": [
    {
     "name": "stdout",
     "output_type": "stream",
     "text": [
      "15.46\n"
     ]
    }
   ],
   "source": [
    "Xin=np.random.choice(X)\n",
    "print(Xin)"
   ]
  }
 ],
 "metadata": {
  "interpreter": {
   "hash": "b1c13f4e52c64b2735bf8609d03d865a52c8d58bf4176228ba308d4f8d8d6f39"
  },
  "kernelspec": {
   "display_name": "Python 3.9.9 64-bit (windows store)",
   "language": "python",
   "name": "python3"
  },
  "language_info": {
   "codemirror_mode": {
    "name": "ipython",
    "version": 3
   },
   "file_extension": ".py",
   "mimetype": "text/x-python",
   "name": "python",
   "nbconvert_exporter": "python",
   "pygments_lexer": "ipython3",
   "version": "3.9.9"
  },
  "orig_nbformat": 4
 },
 "nbformat": 4,
 "nbformat_minor": 2
}
